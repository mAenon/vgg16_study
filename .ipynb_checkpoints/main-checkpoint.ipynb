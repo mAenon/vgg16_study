{
 "cells": [
  {
   "cell_type": "code",
   "execution_count": 1,
   "metadata": {},
   "outputs": [],
   "source": [
    "# cofing: utf-8\n",
    "import numpy as np\n",
    "import pandas as pd\n",
    "from tensorflow.keras.models import Model\n",
    "from tensorflow.keras.layers import Input, LSTM, Dense\n",
    "from tensorflow.keras.callbacks import EarlyStopping"
   ]
  },
  {
   "cell_type": "code",
   "execution_count": 2,
   "metadata": {
    "tags": []
   },
   "outputs": [],
   "source": [
    "# データの前処理\n",
    "import os\n",
    "import sklearn\n",
    "import sklearn.model_selection\n",
    "from tensorflow.keras.utils import to_categorical\n",
    "batch_size = -1 # データの大きさ reshapeしてからshapeの形求める感じでやろう\n",
    "timesteps = 256\n",
    "input_dim = 3 # acc (x, y, z)\n",
    "num_classes = -1 # 分類数\n",
    "\n",
    "x_train, y_train, x_test, y_test = (1, 1, 1, 1)\n"
   ]
  },
  {
   "cell_type": "code",
   "execution_count": 3,
   "metadata": {},
   "outputs": [
    {
     "name": "stderr",
     "output_type": "stream",
     "text": [
      "C:\\Users\\mAenon\\anaconda3\\lib\\site-packages\\IPython\\core\\interactiveshell.py:3063: DtypeWarning: Columns (10,18) have mixed types.Specify dtype option on import or set low_memory=False.\n",
      "  interactivity=interactivity, compiler=compiler, result=result)\n"
     ]
    }
   ],
   "source": [
    "# データの読み込み\n",
    "home_dir = os.path.expanduser(\"~\")\n",
    "label_path = home_dir + \"/Desktop/hasc_data/y_large3.csv\"\n",
    "data_path  = home_dir + \"/Desktop/hasc_data/x_large3.csv\"\n",
    "\n",
    "label_df = pd.read_csv(label_path, index_col=0)\n",
    "data_np  = np.loadtxt (data_path , delimiter=\",\").reshape(-1, timesteps, input_dim)"
   ]
  },
  {
   "cell_type": "code",
   "execution_count": 4,
   "metadata": {
    "tags": []
   },
   "outputs": [],
   "source": [
    "# label の取り扱い\n",
    "labels = label_df[\"act\"]"
   ]
  },
  {
   "cell_type": "code",
   "execution_count": 26,
   "metadata": {
    "tags": []
   },
   "outputs": [
    {
     "name": "stdout",
     "output_type": "stream",
     "text": [
      "7 classies validation\n"
     ]
    }
   ],
   "source": [
    "# dデータ分割\n",
    "y_train, y_test = sklearn.model_selection.train_test_split(labels, test_size = 49, train_size=280, stratify=labels)\n",
    "\n",
    "x_train = data_np[y_train.index]\n",
    "x_test  = data_np[y_test.index]\n",
    "y_test = to_categorical(y_test)\n",
    "y_train = to_categorical(y_train)\n",
    "\n",
    "num_classes = len(y_train[0])\n",
    "print(num_classes, \"classies validation\")\n",
    "batch_size = x_test.shape[0]"
   ]
  },
  {
   "cell_type": "code",
   "execution_count": 32,
   "metadata": {},
   "outputs": [
    {
     "data": {
      "text/plain": [
       "array([[-0.296, -0.736,  0.184],\n",
       "       [-0.296, -0.736,  0.184],\n",
       "       [-0.704, -2.016, -1.008],\n",
       "       [-0.704, -2.016, -1.008],\n",
       "       [-0.184, -2.128, -0.328],\n",
       "       [-0.184, -2.128, -0.328],\n",
       "       [ 0.04 , -2.552,  0.36 ],\n",
       "       [ 0.04 , -2.552,  0.36 ],\n",
       "       [-1.032, -3.624,  0.128],\n",
       "       [-1.032, -3.624,  0.128],\n",
       "       [ 2.552, -4.072,  1.528],\n",
       "       [ 2.552, -4.072,  1.528],\n",
       "       [ 0.888, -4.024, -0.016],\n",
       "       [-0.904, -2.352, -2.432],\n",
       "       [-0.904, -2.352, -2.432],\n",
       "       [-0.984, -0.352, -0.328],\n",
       "       [-0.984, -0.352, -0.328],\n",
       "       [ 0.272,  1.296,  0.336],\n",
       "       [ 0.272,  1.296,  0.336],\n",
       "       [ 0.608,  1.576,  0.424],\n",
       "       [ 0.608,  1.576,  0.424],\n",
       "       [ 0.736,  1.224, -0.512],\n",
       "       [ 0.736,  1.224, -0.512],\n",
       "       [ 0.696,  0.808, -0.984],\n",
       "       [ 0.696,  0.808, -0.984],\n",
       "       [ 0.64 ,  0.776, -0.368],\n",
       "       [ 0.64 ,  0.776, -0.368],\n",
       "       [ 0.552,  0.136, -0.112],\n",
       "       [ 0.424, -0.824, -0.096],\n",
       "       [ 0.424, -0.824, -0.096],\n",
       "       [ 0.024, -2.128,  0.64 ],\n",
       "       [ 0.024, -2.128,  0.64 ],\n",
       "       [-0.096, -1.568,  1.16 ],\n",
       "       [-0.096, -1.568,  1.16 ],\n",
       "       [-0.408, -1.384, -3.104],\n",
       "       [-0.408, -1.384, -3.104],\n",
       "       [ 0.816, -1.36 ,  0.744],\n",
       "       [ 0.816, -1.36 ,  0.744],\n",
       "       [ 0.16 ,  0.36 ,  2.816],\n",
       "       [ 0.16 ,  0.36 ,  2.816],\n",
       "       [-0.096,  0.168, -2.608],\n",
       "       [ 1.136, -2.824, -2.032],\n",
       "       [ 1.136, -2.824, -2.032],\n",
       "       [ 1.736, -3.576, -0.64 ],\n",
       "       [ 1.736, -3.576, -0.64 ],\n",
       "       [ 0.496, -2.36 ,  2.792],\n",
       "       [ 0.496, -2.36 ,  2.792],\n",
       "       [ 0.536, -1.44 , -0.016],\n",
       "       [ 0.536, -1.44 , -0.016],\n",
       "       [-0.488, -1.448,  0.344],\n",
       "       [-0.48 , -1.024, -0.416],\n",
       "       [-0.48 , -1.024, -0.416],\n",
       "       [-0.488,  0.024, -0.296],\n",
       "       [-0.488,  0.024, -0.296],\n",
       "       [-0.32 ,  0.16 ,  0.744],\n",
       "       [-0.32 ,  0.16 ,  0.744],\n",
       "       [-0.376, -0.192,  0.176],\n",
       "       [-0.376, -0.192,  0.176],\n",
       "       [-0.008, -0.216,  0.048],\n",
       "       [-0.008, -0.216,  0.048],\n",
       "       [ 0.056,  0.048,  0.368],\n",
       "       [ 0.016, -0.192,  0.056],\n",
       "       [ 0.016, -0.192,  0.056],\n",
       "       [-0.104, -0.408,  0.4  ],\n",
       "       [-0.104, -0.408,  0.4  ],\n",
       "       [-0.064, -0.952, -0.656],\n",
       "       [-0.064, -0.952, -0.656],\n",
       "       [-0.632, -2.144, -0.8  ],\n",
       "       [-0.632, -2.144, -0.8  ],\n",
       "       [ 0.04 , -2.032,  0.392],\n",
       "       [ 0.04 , -2.032,  0.392],\n",
       "       [ 0.136, -2.528, -0.088],\n",
       "       [ 0.136, -2.528, -0.088],\n",
       "       [-0.792, -4.08 ,  0.232],\n",
       "       [ 2.992, -4.08 ,  1.088],\n",
       "       [ 2.992, -4.08 ,  1.088],\n",
       "       [ 0.464, -3.232, -0.56 ],\n",
       "       [ 0.464, -3.232, -0.56 ],\n",
       "       [-0.624, -1.712, -1.536],\n",
       "       [-0.624, -1.712, -1.536],\n",
       "       [ 0.504,  1.224,  0.096],\n",
       "       [ 0.504,  1.224,  0.096],\n",
       "       [ 0.256,  1.4  ,  0.328],\n",
       "       [ 0.256,  1.4  ,  0.328],\n",
       "       [ 0.592,  1.4  , -0.384],\n",
       "       [ 0.592,  1.4  , -0.384],\n",
       "       [ 0.72 ,  1.   , -0.752],\n",
       "       [ 0.72 ,  1.   , -0.752],\n",
       "       [ 0.44 ,  0.832, -0.408],\n",
       "       [ 0.44 ,  0.832, -0.408],\n",
       "       [ 0.48 ,  0.2  , -0.192],\n",
       "       [ 0.48 ,  0.2  , -0.192],\n",
       "       [ 0.496, -0.44 , -0.152],\n",
       "       [ 0.496, -0.44 , -0.152],\n",
       "       [ 0.144, -1.76 ,  0.656],\n",
       "       [ 0.144, -1.76 ,  0.656],\n",
       "       [ 0.056, -1.664,  1.088],\n",
       "       [ 0.256, -1.088,  1.424],\n",
       "       [ 0.256, -1.088,  1.424],\n",
       "       [ 1.08 , -3.16 , -1.312],\n",
       "       [ 1.08 , -3.16 , -1.312],\n",
       "       [ 0.424,  0.328, -0.568],\n",
       "       [ 0.424,  0.328, -0.568],\n",
       "       [ 0.424,  0.328, -0.568],\n",
       "       [-0.208,  0.896,  2.504],\n",
       "       [ 0.336, -0.344, -2.576],\n",
       "       [ 0.336, -0.344, -2.576],\n",
       "       [-0.384, -2.792,  0.376],\n",
       "       [-0.384, -2.792,  0.376],\n",
       "       [ 1.752, -3.256, -1.512],\n",
       "       [ 1.752, -3.256, -1.512],\n",
       "       [ 0.76 , -3.104,  0.72 ],\n",
       "       [ 0.76 , -3.104,  0.72 ],\n",
       "       [ 0.024, -2.224,  1.624],\n",
       "       [ 0.024, -2.224,  1.624],\n",
       "       [-0.296, -1.44 , -0.056],\n",
       "       [-0.296, -1.44 , -0.056],\n",
       "       [-0.472, -1.112,  0.552],\n",
       "       [-0.472, -1.112,  0.552],\n",
       "       [-0.224, -0.824, -0.184],\n",
       "       [-0.224, -0.824, -0.184],\n",
       "       [-0.744, -0.088, -0.336],\n",
       "       [-0.744, -0.088, -0.336],\n",
       "       [-0.512,  0.152,  0.824],\n",
       "       [-0.208, -0.056,  0.288],\n",
       "       [-0.208, -0.056,  0.288],\n",
       "       [ 0.296, -0.232,  0.216],\n",
       "       [ 0.296, -0.232,  0.216],\n",
       "       [ 0.08 ,  0.032, -0.064],\n",
       "       [ 0.08 ,  0.032, -0.064],\n",
       "       [ 0.   , -0.16 ,  0.136],\n",
       "       [ 0.   , -0.16 ,  0.136],\n",
       "       [-0.152, -0.456,  0.208],\n",
       "       [-0.32 , -1.312, -0.792],\n",
       "       [-0.32 , -1.312, -0.792],\n",
       "       [-0.736, -2.2  , -0.424],\n",
       "       [-0.736, -2.2  , -0.424],\n",
       "       [-0.4  , -3.128, -0.016],\n",
       "       [-0.4  , -3.128, -0.016],\n",
       "       [ 0.848, -4.08 ,  0.312],\n",
       "       [ 0.848, -4.08 ,  0.312],\n",
       "       [ 2.504, -4.072,  1.456],\n",
       "       [-0.08 , -2.816, -1.136],\n",
       "       [-0.08 , -2.816, -1.136],\n",
       "       [-0.944, -1.344, -1.224],\n",
       "       [-0.944, -1.344, -1.224],\n",
       "       [-0.736,  0.712, -0.192],\n",
       "       [-0.736,  0.712, -0.192],\n",
       "       [ 0.472,  1.728,  0.312],\n",
       "       [ 0.888,  1.568, -0.12 ],\n",
       "       [ 0.888,  1.568, -0.12 ],\n",
       "       [ 0.984,  1.008, -1.056],\n",
       "       [ 0.984,  1.008, -1.056],\n",
       "       [ 0.728,  0.648, -0.488],\n",
       "       [ 0.728,  0.648, -0.488],\n",
       "       [ 0.208,  0.576, -0.176],\n",
       "       [ 0.424,  0.168, -0.016],\n",
       "       [ 0.424,  0.168, -0.016],\n",
       "       [ 0.288, -0.28 ,  0.144],\n",
       "       [ 0.288, -0.28 ,  0.144],\n",
       "       [ 0.112, -1.32 ,  0.04 ],\n",
       "       [ 0.136, -2.288,  0.92 ],\n",
       "       [ 0.136, -2.288,  0.92 ],\n",
       "       [ 0.192, -0.464,  0.464],\n",
       "       [ 0.192, -0.464,  0.464],\n",
       "       [ 1.232, -2.208, -0.936],\n",
       "       [ 0.576, -1.84 , -0.728],\n",
       "       [ 0.576, -1.84 , -0.728],\n",
       "       [-0.552,  0.24 ,  2.104],\n",
       "       [-0.552,  0.24 ,  2.104],\n",
       "       [ 0.384,  0.184, -2.112],\n",
       "       [-0.4  , -2.144, -0.656],\n",
       "       [-0.4  , -2.144, -0.656],\n",
       "       [ 1.464, -3.64 , -1.536],\n",
       "       [ 1.464, -3.64 , -1.536],\n",
       "       [-0.096, -3.216,  3.264],\n",
       "       [ 0.184, -1.624,  0.64 ],\n",
       "       [ 0.184, -1.624,  0.64 ],\n",
       "       [-0.624, -1.296,  0.072],\n",
       "       [-0.624, -1.296,  0.072],\n",
       "       [-0.336, -1.184,  0.392],\n",
       "       [-0.336, -1.184,  0.392],\n",
       "       [-0.296, -0.32 , -0.624],\n",
       "       [-0.296, -0.32 , -0.624],\n",
       "       [-0.376,  0.248,  0.848],\n",
       "       [-0.232, -0.088,  0.096],\n",
       "       [-0.232, -0.088,  0.096],\n",
       "       [-0.128, -0.192,  0.144],\n",
       "       [-0.128, -0.192,  0.144],\n",
       "       [ 0.016, -0.16 ,  0.032],\n",
       "       [ 0.016, -0.16 ,  0.032],\n",
       "       [-0.056, -0.392,  0.168],\n",
       "       [-0.056, -0.392,  0.168],\n",
       "       [-0.36 , -0.664, -0.336],\n",
       "       [-0.36 , -0.664, -0.336],\n",
       "       [-0.176, -2.16 , -0.68 ],\n",
       "       [-0.176, -2.16 , -0.68 ],\n",
       "       [-0.24 , -2.104, -0.248],\n",
       "       [-0.24 , -2.104, -0.248],\n",
       "       [ 0.072, -2.648,  0.4  ],\n",
       "       [-0.4  , -3.616,  0.192],\n",
       "       [-0.4  , -3.616,  0.192],\n",
       "       [ 3.144, -4.08 ,  1.04 ],\n",
       "       [ 3.144, -4.08 ,  1.04 ],\n",
       "       [ 0.168, -3.584, -0.248],\n",
       "       [ 0.168, -3.584, -0.248],\n",
       "       [-0.872, -1.824, -1.464],\n",
       "       [-0.872, -1.824, -1.464],\n",
       "       [-1.896, -0.232, -0.816],\n",
       "       [ 0.472,  1.024,  0.008],\n",
       "       [ 0.472,  1.024,  0.008],\n",
       "       [ 0.928,  1.44 ,  0.08 ],\n",
       "       [ 0.928,  1.44 ,  0.08 ],\n",
       "       [ 0.832,  1.048, -0.456],\n",
       "       [ 0.832,  1.048, -0.456],\n",
       "       [ 0.888,  0.672, -0.896],\n",
       "       [ 0.888,  0.672, -0.896],\n",
       "       [ 0.648,  0.568, -0.28 ],\n",
       "       [ 0.28 ,  0.528,  0.008],\n",
       "       [ 0.28 ,  0.528,  0.008],\n",
       "       [ 0.176,  0.088,  0.024],\n",
       "       [ 0.088, -0.44 ,  0.136],\n",
       "       [ 0.088, -0.44 ,  0.136],\n",
       "       [-0.208, -1.832,  0.008],\n",
       "       [-0.208, -1.832,  0.008],\n",
       "       [-0.352, -1.592,  1.232],\n",
       "       [-0.352, -1.592,  1.232],\n",
       "       [-0.288, -0.992, -2.16 ],\n",
       "       [-0.288, -0.992, -2.16 ],\n",
       "       [ 2.32 , -2.44 ,  1.896],\n",
       "       [ 2.32 , -2.44 ,  1.896],\n",
       "       [-0.04 ,  0.04 ,  1.128],\n",
       "       [ 0.056,  0.696, -2.344],\n",
       "       [ 0.056,  0.696, -2.344],\n",
       "       [-0.024, -1.144, -0.816],\n",
       "       [-0.024, -1.144, -0.816],\n",
       "       [ 0.456, -2.856, -1.008],\n",
       "       [ 0.456, -2.856, -1.008],\n",
       "       [ 2.184, -3.816, -1.008],\n",
       "       [ 2.184, -3.816, -1.008],\n",
       "       [-0.32 , -2.712,  2.864],\n",
       "       [-0.64 , -1.256,  0.464],\n",
       "       [-0.64 , -1.256,  0.464],\n",
       "       [-0.28 , -1.104,  0.216],\n",
       "       [-0.28 , -1.104,  0.216],\n",
       "       [-0.488, -0.48 , -0.216],\n",
       "       [-0.488, -0.48 , -0.216],\n",
       "       [-0.832,  0.232,  0.584],\n",
       "       [-0.312, -0.024,  0.096],\n",
       "       [-0.312, -0.024,  0.096],\n",
       "       [-0.224, -0.256, -0.168],\n",
       "       [-0.224, -0.256, -0.168],\n",
       "       [ 0.136,  0.048,  0.336],\n",
       "       [ 0.136,  0.048,  0.336],\n",
       "       [ 0.128, -0.16 ,  0.192],\n",
       "       [ 0.128, -0.16 ,  0.192]])"
      ]
     },
     "execution_count": 32,
     "metadata": {},
     "output_type": "execute_result"
    }
   ],
   "source": [
    "#preprocessing\n",
    "from sklearn.preprocessing import MinMaxScaler, StandardScaler\n",
    "\n",
    "MMScaler = MinMaxScaler()\n",
    "StdScaler = StandardScaler()\n",
    "x_test_mms = []\n",
    "x_train_mms = []\n",
    "\n",
    "for  x in x_test:\n",
    "    x = MMScaler.fit_transform(x)\n",
    "    x_test_mms.append(x)\n",
    "    \n",
    "for  x in x_train:\n",
    "    x = MMScaler.fit_transform(x)\n",
    "    x_train_mms.append(x)\n"
   ]
  },
  {
   "cell_type": "code",
   "execution_count": 16,
   "metadata": {
    "tags": []
   },
   "outputs": [
    {
     "name": "stdout",
     "output_type": "stream",
     "text": [
      "Model: \"model_2\"\n",
      "_________________________________________________________________\n",
      "Layer (type)                 Output Shape              Param #   \n",
      "=================================================================\n",
      "input_4 (InputLayer)         [(None, 256, 3)]          0         \n",
      "_________________________________________________________________\n",
      "lstm_5 (LSTM)                (None, 256, 256)          266240    \n",
      "_________________________________________________________________\n",
      "lstm_6 (LSTM)                (None, 256)               525312    \n",
      "_________________________________________________________________\n",
      "dense_2 (Dense)              (None, 7)                 1799      \n",
      "=================================================================\n",
      "Total params: 793,351\n",
      "Trainable params: 793,351\n",
      "Non-trainable params: 0\n",
      "_________________________________________________________________\n"
     ]
    }
   ],
   "source": [
    "input_layer = Input( shape=( timesteps, input_dim ) )\n",
    "\"\"\"\"\"\n",
    "lstm1 = LSTM(units=256, activation=\"relu\", kernel_initializer=\"he_normal\", return_sequences=True, dropout=0.1)( input_layer )\n",
    "lstm2 = LSTM(units=256, activation=\"relu\", kernel_initializer=\"he_normal\", return_sequences=True, dropout=0.1)( lstm1 )\n",
    "lstm3 = LSTM(units=256, activation=\"relu\", kernel_initializer=\"he_normal\", dropout=0.1)( lstm2 )\n",
    "dense = Dense(units=num_classes, activation=\"softmax\")( lstm3 )\n",
    "\"\"\"\"\"\n",
    "\n",
    "lstm = LSTM(units=256, activation=\"relu\", kernel_initializer=\"he_normal\", return_sequences=True)  ( input_layer )\n",
    "lstm1 = LSTM(units=256, activation=\"relu\", kernel_initializer=\"he_normal\", return_sequences=False)( lstm )\n",
    "dense = Dense(units=num_classes, activation=\"softmax\")( lstm1 )\n",
    "\n",
    "model = Model(inputs = input_layer, outputs = dense)\n",
    "model.compile(loss=\"categorical_crossentropy\", optimizer=\"Adam\", metrics=[\"accuracy\"])\n",
    "model.summary()"
   ]
  },
  {
   "cell_type": "code",
   "execution_count": 7,
   "metadata": {
    "tags": []
   },
   "outputs": [],
   "source": [
    "\"\"\"\n",
    "model_to_dotがうまく動かないのでこのセルは実行しないこと\n",
    "\n",
    "from IPython.display import SVG\n",
    "from tensorflow.python.keras.utils.vis_utils import model_to_dot\n",
    "\n",
    "SVG(model_to_dot(model).create(prog=\"dot\", format=\"svg\"))\n",
    "\"\"\"\n",
    "\n",
    "pass"
   ]
  },
  {
   "cell_type": "code",
   "execution_count": 17,
   "metadata": {
    "tags": []
   },
   "outputs": [
    {
     "ename": "AttributeError",
     "evalue": "'StandardScaler' object has no attribute 'shape'",
     "output_type": "error",
     "traceback": [
      "\u001b[1;31m---------------------------------------------------------------------------\u001b[0m",
      "\u001b[1;31mAttributeError\u001b[0m                            Traceback (most recent call last)",
      "\u001b[1;32m<ipython-input-17-58f584120030>\u001b[0m in \u001b[0;36m<module>\u001b[1;34m\u001b[0m\n\u001b[1;32m----> 1\u001b[1;33m \u001b[0mmodel\u001b[0m\u001b[1;33m.\u001b[0m\u001b[0mfit\u001b[0m\u001b[1;33m(\u001b[0m\u001b[0mx_train\u001b[0m\u001b[1;33m,\u001b[0m \u001b[0my_train\u001b[0m\u001b[1;33m,\u001b[0m \u001b[0mbatch_size\u001b[0m\u001b[1;33m=\u001b[0m\u001b[0mbatch_size\u001b[0m\u001b[1;33m//\u001b[0m\u001b[1;36m10\u001b[0m\u001b[1;33m,\u001b[0m \u001b[0mepochs\u001b[0m\u001b[1;33m=\u001b[0m\u001b[1;36m50\u001b[0m\u001b[1;33m,\u001b[0m \u001b[0mverbose\u001b[0m\u001b[1;33m=\u001b[0m\u001b[1;36m1\u001b[0m\u001b[1;33m,\u001b[0m \u001b[0mcallbacks\u001b[0m\u001b[1;33m=\u001b[0m\u001b[1;33m[\u001b[0m\u001b[0mEarlyStopping\u001b[0m\u001b[1;33m(\u001b[0m\u001b[0mverbose\u001b[0m\u001b[1;33m=\u001b[0m\u001b[1;36m1\u001b[0m\u001b[1;33m)\u001b[0m\u001b[1;33m]\u001b[0m\u001b[1;33m,\u001b[0m \u001b[0mvalidation_data\u001b[0m\u001b[1;33m=\u001b[0m\u001b[1;33m(\u001b[0m\u001b[0mx_test\u001b[0m\u001b[1;33m,\u001b[0m \u001b[0my_test\u001b[0m\u001b[1;33m)\u001b[0m\u001b[1;33m)\u001b[0m\u001b[1;33m\u001b[0m\u001b[1;33m\u001b[0m\u001b[0m\n\u001b[0m",
      "\u001b[1;32m~\\anaconda3\\lib\\site-packages\\tensorflow\\python\\keras\\engine\\training.py\u001b[0m in \u001b[0;36mfit\u001b[1;34m(self, x, y, batch_size, epochs, verbose, callbacks, validation_split, validation_data, shuffle, class_weight, sample_weight, initial_epoch, steps_per_epoch, validation_steps, validation_freq, max_queue_size, workers, use_multiprocessing, **kwargs)\u001b[0m\n\u001b[0;32m    707\u001b[0m         \u001b[0msteps\u001b[0m\u001b[1;33m=\u001b[0m\u001b[0msteps_per_epoch\u001b[0m\u001b[1;33m,\u001b[0m\u001b[1;33m\u001b[0m\u001b[1;33m\u001b[0m\u001b[0m\n\u001b[0;32m    708\u001b[0m         \u001b[0mvalidation_split\u001b[0m\u001b[1;33m=\u001b[0m\u001b[0mvalidation_split\u001b[0m\u001b[1;33m,\u001b[0m\u001b[1;33m\u001b[0m\u001b[1;33m\u001b[0m\u001b[0m\n\u001b[1;32m--> 709\u001b[1;33m         shuffle=shuffle)\n\u001b[0m\u001b[0;32m    710\u001b[0m \u001b[1;33m\u001b[0m\u001b[0m\n\u001b[0;32m    711\u001b[0m     \u001b[1;31m# Prepare validation data.\u001b[0m\u001b[1;33m\u001b[0m\u001b[1;33m\u001b[0m\u001b[1;33m\u001b[0m\u001b[0m\n",
      "\u001b[1;32m~\\anaconda3\\lib\\site-packages\\tensorflow\\python\\keras\\engine\\training.py\u001b[0m in \u001b[0;36m_standardize_user_data\u001b[1;34m(self, x, y, sample_weight, class_weight, batch_size, check_steps, steps_name, steps, validation_split, shuffle, extract_tensors_from_dataset)\u001b[0m\n\u001b[0;32m   2649\u001b[0m           \u001b[0mfeed_input_shapes\u001b[0m\u001b[1;33m,\u001b[0m\u001b[1;33m\u001b[0m\u001b[1;33m\u001b[0m\u001b[0m\n\u001b[0;32m   2650\u001b[0m           \u001b[0mcheck_batch_axis\u001b[0m\u001b[1;33m=\u001b[0m\u001b[1;32mFalse\u001b[0m\u001b[1;33m,\u001b[0m  \u001b[1;31m# Don't enforce the batch size.\u001b[0m\u001b[1;33m\u001b[0m\u001b[1;33m\u001b[0m\u001b[0m\n\u001b[1;32m-> 2651\u001b[1;33m           exception_prefix='input')\n\u001b[0m\u001b[0;32m   2652\u001b[0m \u001b[1;33m\u001b[0m\u001b[0m\n\u001b[0;32m   2653\u001b[0m     \u001b[1;32mif\u001b[0m \u001b[0my\u001b[0m \u001b[1;32mis\u001b[0m \u001b[1;32mnot\u001b[0m \u001b[1;32mNone\u001b[0m\u001b[1;33m:\u001b[0m\u001b[1;33m\u001b[0m\u001b[1;33m\u001b[0m\u001b[0m\n",
      "\u001b[1;32m~\\anaconda3\\lib\\site-packages\\tensorflow\\python\\keras\\engine\\training_utils.py\u001b[0m in \u001b[0;36mstandardize_input_data\u001b[1;34m(data, names, shapes, check_batch_axis, exception_prefix)\u001b[0m\n\u001b[0;32m    332\u001b[0m   \u001b[1;32mif\u001b[0m \u001b[0mshapes\u001b[0m \u001b[1;32mis\u001b[0m \u001b[1;32mnot\u001b[0m \u001b[1;32mNone\u001b[0m\u001b[1;33m:\u001b[0m\u001b[1;33m\u001b[0m\u001b[1;33m\u001b[0m\u001b[0m\n\u001b[0;32m    333\u001b[0m     data = [\n\u001b[1;32m--> 334\u001b[1;33m         \u001b[0mstandardize_single_array\u001b[0m\u001b[1;33m(\u001b[0m\u001b[0mx\u001b[0m\u001b[1;33m,\u001b[0m \u001b[0mshape\u001b[0m\u001b[1;33m)\u001b[0m \u001b[1;32mfor\u001b[0m \u001b[1;33m(\u001b[0m\u001b[0mx\u001b[0m\u001b[1;33m,\u001b[0m \u001b[0mshape\u001b[0m\u001b[1;33m)\u001b[0m \u001b[1;32min\u001b[0m \u001b[0mzip\u001b[0m\u001b[1;33m(\u001b[0m\u001b[0mdata\u001b[0m\u001b[1;33m,\u001b[0m \u001b[0mshapes\u001b[0m\u001b[1;33m)\u001b[0m\u001b[1;33m\u001b[0m\u001b[1;33m\u001b[0m\u001b[0m\n\u001b[0m\u001b[0;32m    335\u001b[0m     ]\n\u001b[0;32m    336\u001b[0m   \u001b[1;32melse\u001b[0m\u001b[1;33m:\u001b[0m\u001b[1;33m\u001b[0m\u001b[1;33m\u001b[0m\u001b[0m\n",
      "\u001b[1;32m~\\anaconda3\\lib\\site-packages\\tensorflow\\python\\keras\\engine\\training_utils.py\u001b[0m in \u001b[0;36m<listcomp>\u001b[1;34m(.0)\u001b[0m\n\u001b[0;32m    332\u001b[0m   \u001b[1;32mif\u001b[0m \u001b[0mshapes\u001b[0m \u001b[1;32mis\u001b[0m \u001b[1;32mnot\u001b[0m \u001b[1;32mNone\u001b[0m\u001b[1;33m:\u001b[0m\u001b[1;33m\u001b[0m\u001b[1;33m\u001b[0m\u001b[0m\n\u001b[0;32m    333\u001b[0m     data = [\n\u001b[1;32m--> 334\u001b[1;33m         \u001b[0mstandardize_single_array\u001b[0m\u001b[1;33m(\u001b[0m\u001b[0mx\u001b[0m\u001b[1;33m,\u001b[0m \u001b[0mshape\u001b[0m\u001b[1;33m)\u001b[0m \u001b[1;32mfor\u001b[0m \u001b[1;33m(\u001b[0m\u001b[0mx\u001b[0m\u001b[1;33m,\u001b[0m \u001b[0mshape\u001b[0m\u001b[1;33m)\u001b[0m \u001b[1;32min\u001b[0m \u001b[0mzip\u001b[0m\u001b[1;33m(\u001b[0m\u001b[0mdata\u001b[0m\u001b[1;33m,\u001b[0m \u001b[0mshapes\u001b[0m\u001b[1;33m)\u001b[0m\u001b[1;33m\u001b[0m\u001b[1;33m\u001b[0m\u001b[0m\n\u001b[0m\u001b[0;32m    335\u001b[0m     ]\n\u001b[0;32m    336\u001b[0m   \u001b[1;32melse\u001b[0m\u001b[1;33m:\u001b[0m\u001b[1;33m\u001b[0m\u001b[1;33m\u001b[0m\u001b[0m\n",
      "\u001b[1;32m~\\anaconda3\\lib\\site-packages\\tensorflow\\python\\keras\\engine\\training_utils.py\u001b[0m in \u001b[0;36mstandardize_single_array\u001b[1;34m(x, expected_shape)\u001b[0m\n\u001b[0;32m    263\u001b[0m     \u001b[1;32mreturn\u001b[0m \u001b[1;32mNone\u001b[0m\u001b[1;33m\u001b[0m\u001b[1;33m\u001b[0m\u001b[0m\n\u001b[0;32m    264\u001b[0m \u001b[1;33m\u001b[0m\u001b[0m\n\u001b[1;32m--> 265\u001b[1;33m   if (x.shape is not None and len(x.shape) == 1 and\n\u001b[0m\u001b[0;32m    266\u001b[0m       (expected_shape is None or len(expected_shape) != 1)):\n\u001b[0;32m    267\u001b[0m     \u001b[1;32mif\u001b[0m \u001b[0mtensor_util\u001b[0m\u001b[1;33m.\u001b[0m\u001b[0mis_tensor\u001b[0m\u001b[1;33m(\u001b[0m\u001b[0mx\u001b[0m\u001b[1;33m)\u001b[0m\u001b[1;33m:\u001b[0m\u001b[1;33m\u001b[0m\u001b[1;33m\u001b[0m\u001b[0m\n",
      "\u001b[1;31mAttributeError\u001b[0m: 'StandardScaler' object has no attribute 'shape'"
     ]
    }
   ],
   "source": [
    "model.fit(x_train, y_train, batch_size=batch_size//10, epochs=50, verbose=1, callbacks=[EarlyStopping(verbose=1)], validation_data=(x_test, y_test))"
   ]
  },
  {
   "cell_type": "code",
   "execution_count": 11,
   "metadata": {},
   "outputs": [
    {
     "name": "stdout",
     "output_type": "stream",
     "text": [
      "49/49 [==============================] - 0s 9ms/sample - loss: nan - acc: 0.0000e+00\n"
     ]
    },
    {
     "data": {
      "text/plain": [
       "[nan, 0.0]"
      ]
     },
     "execution_count": 11,
     "metadata": {},
     "output_type": "execute_result"
    }
   ],
   "source": [
    "model.evaluate(x_test, y_test)"
   ]
  },
  {
   "cell_type": "code",
   "execution_count": null,
   "metadata": {},
   "outputs": [],
   "source": []
  }
 ],
 "metadata": {
  "kernelspec": {
   "display_name": "Python 3",
   "language": "python",
   "name": "python3"
  },
  "language_info": {
   "codemirror_mode": {
    "name": "ipython",
    "version": 3
   },
   "file_extension": ".py",
   "mimetype": "text/x-python",
   "name": "python",
   "nbconvert_exporter": "python",
   "pygments_lexer": "ipython3",
   "version": "3.7.7"
  }
 },
 "nbformat": 4,
 "nbformat_minor": 2
}

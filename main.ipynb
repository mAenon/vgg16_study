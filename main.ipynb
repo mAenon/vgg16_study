{
 "cells": [
  {
   "cell_type": "code",
   "execution_count": 82,
   "metadata": {},
   "outputs": [],
   "source": [
    "# cofing: utf-8\n",
    "import numpy as np\n",
    "import pandas as pd\n",
    "from tensorflow.keras.models import Model\n",
    "from tensorflow.keras.layers import Input, LSTM, Dense, Conv1D, MaxPooling1D, Flatten, Dropout, BatchNormalization, Activation\n",
    "from tensorflow.keras.callbacks import EarlyStopping\n",
    "import tensorflow"
   ]
  },
  {
   "cell_type": "code",
   "execution_count": 83,
   "metadata": {
    "tags": []
   },
   "outputs": [],
   "source": [
    "# データの前処理\n",
    "import os\n",
    "import sklearn\n",
    "import sklearn.model_selection\n",
    "from tensorflow.keras.utils import to_categorical\n",
    "batch_size = 100 # データの大きさ reshapeしてからshapeの形求める感じでやろう\n",
    "timesteps = 256\n",
    "input_dim = 3 # acc (x, y, z)\n",
    "num_classes = 7 # 分類数\n",
    "\n",
    "x_train, y_train, x_test, y_test = (1, 1, 1, 1)\n"
   ]
  },
  {
   "cell_type": "code",
   "execution_count": 84,
   "metadata": {},
   "outputs": [],
   "source": [
    "# データの読み込み\n",
    "home_dir = os.path.expanduser(\"~\")\n",
    "label_path = home_dir + \"/Desktop/hasc_data/y_large3.csv\"\n",
    "data_path  = home_dir + \"/Desktop/hasc_data/x_large3.csv\"\n",
    "\n",
    "label_df = pd.read_csv(label_path, index_col=0)\n",
    "data_np  = np.loadtxt (data_path , delimiter=\",\").reshape(-1, timesteps, input_dim)"
   ]
  },
  {
   "cell_type": "code",
   "execution_count": 85,
   "metadata": {
    "tags": []
   },
   "outputs": [
    {
     "output_type": "stream",
     "name": "stdout",
     "text": "0        0\n1        0\n2        0\n3        0\n4        0\n        ..\n36866    5\n36867    5\n36868    5\n36869    5\n36870    5\nName: act, Length: 36871, dtype: int64\n"
    }
   ],
   "source": [
    "# label の取り扱い\n",
    "# 0 to 5 :  6 class\n",
    "labels = label_df[\"act\"] - 1\n",
    "print(labels)"
   ]
  },
  {
   "cell_type": "code",
   "execution_count": null,
   "metadata": {
    "tags": []
   },
   "outputs": [],
   "source": [
    "# データ分割\n",
    "\n",
    "x_train, x_test, y_train, y_test = sklearn.model_selection.train_test_split(data_np, labels, test_size = 0.2, train_size=None, stratify=labels)\n",
    "\n",
    "y_test = to_categorical(y_test)\n",
    "y_train = to_categorical(y_train)\n",
    "\n",
    "num_classes = len(labels.unique())\n",
    "batch_size = x_train.shape[0]\n",
    "print(num_classes, \"classies validation\")\n",
    "print(\"train data len :\", batch_size)\n",
    "print(\"test  data len :\", x_test.shape[0])"
   ]
  },
  {
   "cell_type": "code",
   "execution_count": 87,
   "metadata": {
    "tags": []
   },
   "outputs": [],
   "source": [
    "#preprocessing\n",
    "# TODO\n",
    "# ここもっと綺麗にしたい\n",
    "# dict使って，MMSとStdSをうまく使えるようにしたい\n",
    "from sklearn.preprocessing import MinMaxScaler, StandardScaler\n",
    "\n",
    "MMScaler = MinMaxScaler()\n",
    "StdScaler = StandardScaler()\n",
    "\n",
    "datas = {\"original\" : [x_train, x_train]}\n",
    "x_train_mms  = []\n",
    "x_test_mms   = []\n",
    "x_train_stds = []\n",
    "x_test_stds  = []\n",
    "\n",
    "for data in x_train:\n",
    "    x = MMScaler.fit_transform(data)\n",
    "    x_train_mms.append(x)\n",
    "    x = StdScaler.fit_transform(data)\n",
    "    x_train_stds.append(x)\n",
    "\n",
    "for data in x_test:\n",
    "    x = MMScaler.fit_transform(data)\n",
    "    x_test_mms.append(x)\n",
    "    x = StdScaler.fit_transform(data)\n",
    "    x_test_stds.append(x)\n",
    "\n",
    "x_train_mms  = np.array(x_train_mms )\n",
    "x_test_mms   = np.array(x_test_mms  )\n",
    "x_train_stds = np.array(x_train_stds)\n",
    "x_test_stds  = np.array(x_test_stds )\n",
    "\n",
    "datas[\"mms\"] = [x_train_mms,  x_test_mms]\n",
    "datas[\"stds\"]= [x_train_stds, x_test_stds]\n"
   ]
  },
  {
   "cell_type": "code",
   "execution_count": 88,
   "metadata": {
    "tags": []
   },
   "outputs": [],
   "source": [
    "# TODO モデルを保存したdictを作ってうまく管理したい\n",
    "# 今はモデル作ったやつをそのまま辞書の中に入れてるけど，コンパイルしてから入れたほうがいいかも？\n",
    "\n",
    "models = {}\n",
    "\n",
    "lstm_dontrun_input = Input( shape=( timesteps, input_dim ) )\n",
    "lstm_dontrun_lstm1 = LSTM(units=256, activation=\"relu\", kernel_initializer=\"he_normal\", return_sequences=True, dropout=0.1)( lstm_dontrun_input )\n",
    "lstm_dontrun_lstm2 = LSTM(units=128, activation=\"relu\", kernel_initializer=\"he_normal\", return_sequences=True, dropout=0.1)( lstm_dontrun_lstm1 )\n",
    "lstm_dontrun_lstm3 = LSTM(units=64, activation=\"relu\", kernel_initializer=\"he_normal\",  return_sequences=True, dropout=0.1)( lstm_dontrun_lstm2 )\n",
    "lstm_dontrun_lstm4 = LSTM(units=32, activation=\"relu\", kernel_initializer=\"he_normal\", dropout=0.1)( lstm_dontrun_lstm3 )\n",
    "lstm_dontrun_dense = Dense(units=num_classes, activation=\"softmax\")( lstm_dontrun_lstm4 )\n",
    "model_lstm_dontrun = Model(inputs = lstm_dontrun_input, outputs=lstm_dontrun_dense, name=\"lstm_dontrun\")\n",
    "models[\"lstm_dontrun\"] = model_lstm_dontrun\n",
    "\n",
    "lstm_1_input = Input( shape=( timesteps, input_dim ) )\n",
    "lstm_1_lstm = LSTM(units=32, activation=\"relu\", kernel_initializer=\"he_normal\",  return_sequences=False, dropout=0.1)( lstm_1_input )\n",
    "lstm_1_dense = Dense(units=num_classes, activation=\"softmax\")( lstm_1_lstm )\n",
    "model_lstm_1 = Model(inputs = lstm_1_input, outputs = lstm_1_dense, name=\"lstm_1\")\n",
    "models[\"lstm_1\"] = model_lstm_1\n",
    "\n",
    "conv1_1_input = Input( shape=( timesteps, input_dim ) )\n",
    "conv1_1_conv1 = Conv1D(filters=128, kernel_size=16, strides=1, padding='same', kernel_initializer=\"he_normal\", activation=\"relu\")(conv1_1_input)\n",
    "conv1_1_pool1 = MaxPooling1D(4, padding='same')(conv1_1_conv1)\n",
    "conv1_1_conv2 = Conv1D(filters=64, kernel_size=16, strides=1, padding='same', kernel_initializer=\"he_normal\", activation=\"relu\")(conv1_1_pool1)\n",
    "conv1_1_pool2 = MaxPooling1D(1, padding='same')(conv1_1_conv2)\n",
    "conv1_1_conv3 = Conv1D(filters=32, kernel_size=16, strides=1, padding='same', kernel_initializer=\"he_normal\", activation=\"relu\")(conv1_1_pool2)\n",
    "conv1_1_conv4 = Conv1D(filters=16, kernel_size=16, strides=1, padding='same', kernel_initializer=\"he_normal\", activation=\"relu\")(conv1_1_conv3)\n",
    "conv1_1_flatter = Flatten()(conv1_1_conv4)\n",
    "conv1_1_dense = Dense(units=num_classes, activation=\"softmax\")(conv1_1_flatter)\n",
    "model_conv1_1 = Model(inputs=conv1_1_input, outputs=conv1_1_dense, name=\"conv1d_1\")\n",
    "models[\"conv1d_1\"] = model_conv1_1\n",
    "\n",
    "\n",
    "\n",
    "conv1_2_input = Input( shape=( timesteps, input_dim ) )\n",
    "conv1_2_conv1 = Conv1D(filters=64, kernel_size=3, strides=1, padding='same', kernel_initializer=\"he_normal\", activation=\"relu\")(conv1_2_input)\n",
    "conv1_2_dropout1 = Dropout(0.25)(conv1_2_conv1)\n",
    "# conv1_2_pool1 = MaxPooling1D(4, padding='same')(conv1_1_conv1)\n",
    "conv1_2_conv2 = Conv1D(filters=128, kernel_size=3, strides=1, padding='same', kernel_initializer=\"he_normal\", activation=\"relu\")(conv1_2_dropout1)\n",
    "conv1_2_dropout2 = Dropout(0.25)(conv1_2_conv2)\n",
    "# conv1_2_pool2 = MaxPooling1D(1, padding='same')(conv1_1_conv2)\n",
    "conv1_2_conv3 = Conv1D(filters=128, kernel_size=3, strides=1, padding='same', kernel_initializer=\"he_normal\", activation=\"relu\")(conv1_2_dropout2)\n",
    "conv1_2_dropout3 = Dropout(0.25)(conv1_2_conv3)\n",
    "conv1_2_conv4 = Conv1D(filters=256, kernel_size=3, strides=1, padding='same', kernel_initializer=\"he_normal\", activation=\"relu\")(conv1_2_dropout3)\n",
    "conv1_2_dropout4 = Dropout(0.25)(conv1_2_conv4)\n",
    "conv1_2_flatter = Flatten()(conv1_2_dropout4)\n",
    "conv1_2_dense1 = Dense(units=2048, activation=\"relu\")(conv1_2_flatter)\n",
    "conv1_2_dense2 = Dense(units=num_classes, activation=\"softmax\")(conv1_2_dense1)\n",
    "model_conv1_2 = Model(inputs=conv1_2_input, outputs=conv1_2_dense2, name=\"conv1d_2\")\n",
    "models[\"conv1d_2\"] = model_conv1_2\n",
    "\n",
    "\n",
    "# 1d vgg16\n",
    "vgg16_input = Input(shape=(timesteps, input_dim))\n",
    "\n",
    "# block1\n",
    "vgg16_block1_conv1 = Conv1D(filters=64, kernel_size=3, strides=1, padding=\"same\", kernel_initializer=\"he_normal\")(vgg16_input)\n",
    "vgg16_block1_bn1 = BatchNormalization()(vgg16_block1_conv1)\n",
    "vgg16_block1_actiovation1 = Activation(\"relu\")(vgg16_block1_bn1)\n",
    "vgg16_block1_conv2 = Conv1D(filters=64, kernel_size=3, strides=1, padding=\"same\", kernel_initializer=\"he_normal\")(vgg16_block1_actiovation1)\n",
    "vgg16_block1_bn2 = BatchNormalization()(vgg16_block1_conv2)\n",
    "vgg16_block1_actiovation2 = Activation(\"relu\")(vgg16_block1_bn2)\n",
    "vgg16_block1_pool = MaxPooling1D(pool_size=2, strides=2, padding=\"same\")(vgg16_block1_actiovation2)\n",
    "\n",
    "# block2\n",
    "vgg16_block2_conv1 = Conv1D(filters=128, kernel_size=3, strides=1, padding=\"same\", kernel_initializer=\"he_normal\")(vgg16_block1_pool)\n",
    "vgg16_block2_bn1 = BatchNormalization()(vgg16_block2_conv1)\n",
    "vgg16_block2_actiovation1 = Activation(\"relu\")(vgg16_block2_bn1)\n",
    "vgg16_block2_conv2 = Conv1D(filters=128, kernel_size=3, strides=1, padding=\"same\", kernel_initializer=\"he_normal\")(vgg16_block2_actiovation1)\n",
    "vgg16_block2_bn2 = BatchNormalization()(vgg16_block2_conv2)\n",
    "vgg16_block2_actiovation2 = Activation(\"relu\")(vgg16_block2_bn2)\n",
    "vgg16_block2_pool = MaxPooling1D(pool_size=2, strides=2, padding=\"same\")(vgg16_block2_actiovation2)\n",
    "\n",
    "# block3\n",
    "vgg16_block3_conv1 = Conv1D(filters=256, kernel_size=3, strides=1, padding=\"same\", kernel_initializer=\"he_normal\")(vgg16_block2_pool)\n",
    "vgg16_block3_bn1 = BatchNormalization()(vgg16_block3_conv1)\n",
    "vgg16_block3_actiovation1 = Activation(\"relu\")(vgg16_block3_bn1)\n",
    "vgg16_block3_conv2 = Conv1D(filters=256, kernel_size=3, strides=1, padding=\"same\", kernel_initializer=\"he_normal\")(vgg16_block3_actiovation1)\n",
    "vgg16_block3_bn2 = BatchNormalization()(vgg16_block3_conv2)\n",
    "vgg16_block3_actiovation2 = Activation(\"relu\")(vgg16_block3_bn2)\n",
    "vgg16_block3_conv3 = Conv1D(filters=256, kernel_size=3, strides=1, padding=\"same\", kernel_initializer=\"he_normal\")(vgg16_block3_actiovation2)\n",
    "vgg16_block3_bn3 = BatchNormalization()(vgg16_block3_conv3)\n",
    "vgg16_block3_actiovation3 = Activation(\"relu\")(vgg16_block3_bn3)\n",
    "vgg16_block3_pool = MaxPooling1D(pool_size=2, strides=2, padding=\"same\")(vgg16_block3_actiovation3)\n",
    "\n",
    "# block4\n",
    "vgg16_block4_conv1 = Conv1D(filters=512, kernel_size=3, strides=1, padding=\"same\", kernel_initializer=\"he_normal\")(vgg16_block3_pool)\n",
    "vgg16_block4_bn1 = BatchNormalization()(vgg16_block4_conv1)\n",
    "vgg16_block4_actiovation1 = Activation(\"relu\")(vgg16_block4_bn1)\n",
    "vgg16_block4_conv2 = Conv1D(filters=512, kernel_size=3, strides=1, padding=\"same\", kernel_initializer=\"he_normal\")(vgg16_block4_actiovation1)\n",
    "vgg16_block4_bn2 = BatchNormalization()(vgg16_block4_conv2)\n",
    "vgg16_block4_actiovation2 = Activation(\"relu\")(vgg16_block4_bn2)\n",
    "vgg16_block4_conv3 = Conv1D(filters=256, kernel_size=3, strides=1, padding=\"same\", kernel_initializer=\"he_normal\")(vgg16_block4_actiovation2)\n",
    "vgg16_block4_bn3 = BatchNormalization()(vgg16_block4_conv3)\n",
    "vgg16_block4_actiovation3 = Activation(\"relu\")(vgg16_block4_bn3)\n",
    "vgg16_block4_pool = MaxPooling1D(pool_size=2, strides=2, padding=\"same\")(vgg16_block4_actiovation3)\n",
    "\n",
    "# block5\n",
    "vgg16_block5_conv1 = Conv1D(filters=512, kernel_size=3, strides=1, padding=\"same\", kernel_initializer=\"he_normal\")(vgg16_block4_pool)\n",
    "vgg16_block5_bn1 = BatchNormalization()(vgg16_block5_conv1)\n",
    "vgg16_block5_actiovation1 = Activation(\"relu\")(vgg16_block5_bn1)\n",
    "vgg16_block5_conv2 = Conv1D(filters=512, kernel_size=3, strides=1, padding=\"same\", kernel_initializer=\"he_normal\")(vgg16_block5_actiovation1)\n",
    "vgg16_block5_bn2 = BatchNormalization()(vgg16_block5_conv2)\n",
    "vgg16_block5_actiovation2 = Activation(\"relu\")(vgg16_block5_bn2)\n",
    "vgg16_block5_conv3 = Conv1D(filters=256, kernel_size=3, strides=1, padding=\"same\", kernel_initializer=\"he_normal\")(vgg16_block5_actiovation2)\n",
    "vgg16_block5_bn3 = BatchNormalization()(vgg16_block5_conv3)\n",
    "vgg16_block5_actiovation3 = Activation(\"relu\")(vgg16_block5_bn3)\n",
    "vgg16_block5_pool = MaxPooling1D(pool_size=2, strides=2, padding=\"same\")(vgg16_block5_actiovation3)\n",
    "\n",
    "# dense\n",
    "vgg16_flatten = Flatten()(vgg16_block5_pool)\n",
    "vgg16_dense1  = Dense(units=4096, activation=\"relu\")(vgg16_flatten)\n",
    "vgg16_dense2  = Dense(units=4096, activation=\"relu\")(vgg16_dense1)\n",
    "vgg16_output  = Dense(units=num_classes, activation=\"softmax\")(vgg16_dense2)\n",
    "model_vgg16_1d = Model(inputs = vgg16_input, outputs=vgg16_output, name=\"vgg16_1d\")\n",
    "models[\"vgg16_1d\"] = model_vgg16_1d"
   ]
  },
  {
   "cell_type": "code",
   "execution_count": 89,
   "metadata": {
    "tags": []
   },
   "outputs": [
    {
     "output_type": "stream",
     "name": "stdout",
     "text": "model list:\n・ lstm_dontrun\n・ lstm_1\n・ conv1d_1\n・ conv1d_2\n・ vgg16_1d\n\nModel: \"lstm_dontrun\"\n_________________________________________________________________\nLayer (type)                 Output Shape              Param #   \n=================================================================\ninput_46 (InputLayer)        [(None, 256, 3)]          0         \n_________________________________________________________________\nlstm_45 (LSTM)               (None, 256, 256)          266240    \n_________________________________________________________________\nlstm_46 (LSTM)               (None, 256, 128)          197120    \n_________________________________________________________________\nlstm_47 (LSTM)               (None, 256, 64)           49408     \n_________________________________________________________________\nlstm_48 (LSTM)               (None, 32)                12416     \n_________________________________________________________________\ndense_62 (Dense)             (None, 6)                 198       \n=================================================================\nTotal params: 525,382\nTrainable params: 525,382\nNon-trainable params: 0\n_________________________________________________________________\n\n\nModel: \"lstm_1\"\n_________________________________________________________________\nLayer (type)                 Output Shape              Param #   \n=================================================================\ninput_47 (InputLayer)        [(None, 256, 3)]          0         \n_________________________________________________________________\nlstm_49 (LSTM)               (None, 32)                4608      \n_________________________________________________________________\ndense_63 (Dense)             (None, 6)                 198       \n=================================================================\nTotal params: 4,806\nTrainable params: 4,806\nNon-trainable params: 0\n_________________________________________________________________\n\n\nModel: \"conv1d_1\"\n_________________________________________________________________\nLayer (type)                 Output Shape              Param #   \n=================================================================\ninput_48 (InputLayer)        [(None, 256, 3)]          0         \n_________________________________________________________________\nconv1d_154 (Conv1D)          (None, 256, 128)          6272      \n_________________________________________________________________\nmax_pooling1d_49 (MaxPooling (None, 64, 128)           0         \n_________________________________________________________________\nconv1d_155 (Conv1D)          (None, 64, 64)            131136    \n_________________________________________________________________\nmax_pooling1d_50 (MaxPooling (None, 64, 64)            0         \n_________________________________________________________________\nconv1d_156 (Conv1D)          (None, 64, 32)            32800     \n_________________________________________________________________\nconv1d_157 (Conv1D)          (None, 64, 16)            8208      \n_________________________________________________________________\nflatten_24 (Flatten)         (None, 1024)              0         \n_________________________________________________________________\ndense_64 (Dense)             (None, 6)                 6150      \n=================================================================\nTotal params: 184,566\nTrainable params: 184,566\nNon-trainable params: 0\n_________________________________________________________________\n\n\nModel: \"conv1d_2\"\n_________________________________________________________________\nLayer (type)                 Output Shape              Param #   \n=================================================================\ninput_49 (InputLayer)        [(None, 256, 3)]          0         \n_________________________________________________________________\nconv1d_158 (Conv1D)          (None, 256, 64)           640       \n_________________________________________________________________\ndropout_36 (Dropout)         (None, 256, 64)           0         \n_________________________________________________________________\nconv1d_159 (Conv1D)          (None, 256, 128)          24704     \n_________________________________________________________________\ndropout_37 (Dropout)         (None, 256, 128)          0         \n_________________________________________________________________\nconv1d_160 (Conv1D)          (None, 256, 128)          49280     \n_________________________________________________________________\ndropout_38 (Dropout)         (None, 256, 128)          0         \n_________________________________________________________________\nconv1d_161 (Conv1D)          (None, 256, 256)          98560     \n_________________________________________________________________\ndropout_39 (Dropout)         (None, 256, 256)          0         \n_________________________________________________________________\nflatten_25 (Flatten)         (None, 65536)             0         \n_________________________________________________________________\ndense_65 (Dense)             (None, 2048)              134219776 \n_________________________________________________________________\ndense_66 (Dense)             (None, 6)                 12294     \n=================================================================\nTotal params: 134,405,254\nTrainable params: 134,405,254\nNon-trainable params: 0\n_________________________________________________________________\n\n\nModel: \"vgg16_1d\"\n_________________________________________________________________\nLayer (type)                 Output Shape              Param #   \n=================================================================\ninput_50 (InputLayer)        [(None, 256, 3)]          0         \n_________________________________________________________________\nconv1d_162 (Conv1D)          (None, 256, 64)           640       \n_________________________________________________________________\nbatch_normalization_80 (Batc (None, 256, 64)           256       \n_________________________________________________________________\nactivation_80 (Activation)   (None, 256, 64)           0         \n_________________________________________________________________\nconv1d_163 (Conv1D)          (None, 256, 64)           12352     \n_________________________________________________________________\nbatch_normalization_81 (Batc (None, 256, 64)           256       \n_________________________________________________________________\nactivation_81 (Activation)   (None, 256, 64)           0         \n_________________________________________________________________\nmax_pooling1d_51 (MaxPooling (None, 128, 64)           0         \n_________________________________________________________________\nconv1d_164 (Conv1D)          (None, 128, 128)          24704     \n_________________________________________________________________\nbatch_normalization_82 (Batc (None, 128, 128)          512       \n_________________________________________________________________\nactivation_82 (Activation)   (None, 128, 128)          0         \n_________________________________________________________________\nconv1d_165 (Conv1D)          (None, 128, 128)          49280     \n_________________________________________________________________\nbatch_normalization_83 (Batc (None, 128, 128)          512       \n_________________________________________________________________\nactivation_83 (Activation)   (None, 128, 128)          0         \n_________________________________________________________________\nmax_pooling1d_52 (MaxPooling (None, 64, 128)           0         \n_________________________________________________________________\nconv1d_166 (Conv1D)          (None, 64, 256)           98560     \n_________________________________________________________________\nbatch_normalization_84 (Batc (None, 64, 256)           1024      \n_________________________________________________________________\nactivation_84 (Activation)   (None, 64, 256)           0         \n_________________________________________________________________\nconv1d_167 (Conv1D)          (None, 64, 256)           196864    \n_________________________________________________________________\nbatch_normalization_85 (Batc (None, 64, 256)           1024      \n_________________________________________________________________\nactivation_85 (Activation)   (None, 64, 256)           0         \n_________________________________________________________________\nconv1d_168 (Conv1D)          (None, 64, 256)           196864    \n_________________________________________________________________\nbatch_normalization_86 (Batc (None, 64, 256)           1024      \n_________________________________________________________________\nactivation_86 (Activation)   (None, 64, 256)           0         \n_________________________________________________________________\nmax_pooling1d_53 (MaxPooling (None, 32, 256)           0         \n_________________________________________________________________\nconv1d_169 (Conv1D)          (None, 32, 512)           393728    \n_________________________________________________________________\nbatch_normalization_87 (Batc (None, 32, 512)           2048      \n_________________________________________________________________\nactivation_87 (Activation)   (None, 32, 512)           0         \n_________________________________________________________________\nconv1d_170 (Conv1D)          (None, 32, 512)           786944    \n_________________________________________________________________\nbatch_normalization_88 (Batc (None, 32, 512)           2048      \n_________________________________________________________________\nactivation_88 (Activation)   (None, 32, 512)           0         \n_________________________________________________________________\nconv1d_171 (Conv1D)          (None, 32, 256)           393472    \n_________________________________________________________________\nbatch_normalization_89 (Batc (None, 32, 256)           1024      \n_________________________________________________________________\nactivation_89 (Activation)   (None, 32, 256)           0         \n_________________________________________________________________\nmax_pooling1d_54 (MaxPooling (None, 16, 256)           0         \n_________________________________________________________________\nconv1d_172 (Conv1D)          (None, 16, 512)           393728    \n_________________________________________________________________\nbatch_normalization_90 (Batc (None, 16, 512)           2048      \n_________________________________________________________________\nactivation_90 (Activation)   (None, 16, 512)           0         \n_________________________________________________________________\nconv1d_173 (Conv1D)          (None, 16, 512)           786944    \n_________________________________________________________________\nbatch_normalization_91 (Batc (None, 16, 512)           2048      \n_________________________________________________________________\nactivation_91 (Activation)   (None, 16, 512)           0         \n_________________________________________________________________\nconv1d_174 (Conv1D)          (None, 16, 256)           393472    \n_________________________________________________________________\nbatch_normalization_92 (Batc (None, 16, 256)           1024      \n_________________________________________________________________\nactivation_92 (Activation)   (None, 16, 256)           0         \n_________________________________________________________________\nmax_pooling1d_55 (MaxPooling (None, 8, 256)            0         \n_________________________________________________________________\nflatten_26 (Flatten)         (None, 2048)              0         \n_________________________________________________________________\ndense_67 (Dense)             (None, 4096)              8392704   \n_________________________________________________________________\ndense_68 (Dense)             (None, 4096)              16781312  \n_________________________________________________________________\ndense_69 (Dense)             (None, 6)                 24582     \n=================================================================\nTotal params: 28,940,998\nTrainable params: 28,933,574\nNon-trainable params: 7,424\n_________________________________________________________________\n\n"
    }
   ],
   "source": [
    "print(\"model list:\")\n",
    "for name in models.keys():\n",
    "    print(\"・\", name)\n",
    "\n",
    "for model in models.values():\n",
    "    print()\n",
    "    model.summary()\n",
    "    model.compile(loss=\"categorical_crossentropy\", optimizer=\"Adam\", metrics=[\"accuracy\"])\n",
    "    print()"
   ]
  },
  {
   "cell_type": "code",
   "execution_count": 90,
   "metadata": {
    "tags": []
   },
   "outputs": [],
   "source": [
    "\"\"\"\n",
    "model_to_dotがうまく動かないのでこのセルは実行しないこと\n",
    "\n",
    "from IPython.display import SVG\n",
    "from tensorflow.python.keras.utils.vis_utils import model_to_dot\n",
    "\n",
    "SVG(model_to_dot(model).create(prog=\"dot\", format=\"svg\"))\n",
    "\"\"\"\n",
    "\n",
    "pass"
   ]
  },
  {
   "cell_type": "code",
   "execution_count": 93,
   "metadata": {
    "tags": []
   },
   "outputs": [
    {
     "output_type": "stream",
     "name": "stdout",
     "text": "Train on 29496 samples, validate on 7375 samples\nEpoch 1/50\n"
    },
    {
     "output_type": "error",
     "ename": "KeyboardInterrupt",
     "evalue": "",
     "traceback": [
      "\u001b[1;31m---------------------------------------------------------------------------\u001b[0m",
      "\u001b[1;31mKeyboardInterrupt\u001b[0m                         Traceback (most recent call last)",
      "\u001b[1;32m<ipython-input-93-e7ab6631f12d>\u001b[0m in \u001b[0;36m<module>\u001b[1;34m\u001b[0m\n\u001b[0;32m      1\u001b[0m \u001b[1;31m# model_lstm.fit(x_train_mms, y_train, batch_size=batch_size//20, epochs=50, verbose=1, callbacks=[EarlyStopping(verbose=1)], validation_data=(x_test_mms, y_test))\u001b[0m\u001b[1;33m\u001b[0m\u001b[1;33m\u001b[0m\u001b[1;33m\u001b[0m\u001b[0m\n\u001b[0;32m      2\u001b[0m \u001b[1;31m# result = models[\"vgg16_1d\"].fit(x_train_mms, y_train, batch_size=batch_size//20, epochs=50, verbose=1, validation_data=(x_test_mms, y_test))\u001b[0m\u001b[1;33m\u001b[0m\u001b[1;33m\u001b[0m\u001b[1;33m\u001b[0m\u001b[0m\n\u001b[1;32m----> 3\u001b[1;33m \u001b[0mresult\u001b[0m \u001b[1;33m=\u001b[0m \u001b[0mmodels\u001b[0m\u001b[1;33m[\u001b[0m\u001b[1;34m\"vgg16_1d\"\u001b[0m\u001b[1;33m]\u001b[0m\u001b[1;33m.\u001b[0m\u001b[0mfit\u001b[0m\u001b[1;33m(\u001b[0m\u001b[0mdatas\u001b[0m\u001b[1;33m[\u001b[0m\u001b[1;34m\"stds\"\u001b[0m\u001b[1;33m]\u001b[0m\u001b[1;33m[\u001b[0m\u001b[1;36m0\u001b[0m\u001b[1;33m]\u001b[0m\u001b[1;33m,\u001b[0m \u001b[0my_train\u001b[0m\u001b[1;33m,\u001b[0m \u001b[0mbatch_size\u001b[0m\u001b[1;33m=\u001b[0m\u001b[0mbatch_size\u001b[0m\u001b[1;33m//\u001b[0m\u001b[1;36m20\u001b[0m\u001b[1;33m,\u001b[0m \u001b[0mepochs\u001b[0m\u001b[1;33m=\u001b[0m\u001b[1;36m50\u001b[0m\u001b[1;33m,\u001b[0m \u001b[0mverbose\u001b[0m\u001b[1;33m=\u001b[0m\u001b[1;36m1\u001b[0m\u001b[1;33m,\u001b[0m \u001b[0mvalidation_data\u001b[0m\u001b[1;33m=\u001b[0m\u001b[1;33m(\u001b[0m\u001b[0mdatas\u001b[0m\u001b[1;33m[\u001b[0m\u001b[1;34m\"stds\"\u001b[0m\u001b[1;33m]\u001b[0m\u001b[1;33m[\u001b[0m\u001b[1;36m1\u001b[0m\u001b[1;33m]\u001b[0m\u001b[1;33m,\u001b[0m \u001b[0my_test\u001b[0m\u001b[1;33m)\u001b[0m\u001b[1;33m)\u001b[0m\u001b[1;33m\u001b[0m\u001b[1;33m\u001b[0m\u001b[0m\n\u001b[0m",
      "\u001b[1;32m~\\anaconda3\\lib\\site-packages\\tensorflow\\python\\keras\\engine\\training.py\u001b[0m in \u001b[0;36mfit\u001b[1;34m(self, x, y, batch_size, epochs, verbose, callbacks, validation_split, validation_data, shuffle, class_weight, sample_weight, initial_epoch, steps_per_epoch, validation_steps, validation_freq, max_queue_size, workers, use_multiprocessing, **kwargs)\u001b[0m\n\u001b[0;32m    778\u001b[0m           \u001b[0mvalidation_steps\u001b[0m\u001b[1;33m=\u001b[0m\u001b[0mvalidation_steps\u001b[0m\u001b[1;33m,\u001b[0m\u001b[1;33m\u001b[0m\u001b[1;33m\u001b[0m\u001b[0m\n\u001b[0;32m    779\u001b[0m           \u001b[0mvalidation_freq\u001b[0m\u001b[1;33m=\u001b[0m\u001b[0mvalidation_freq\u001b[0m\u001b[1;33m,\u001b[0m\u001b[1;33m\u001b[0m\u001b[1;33m\u001b[0m\u001b[0m\n\u001b[1;32m--> 780\u001b[1;33m           steps_name='steps_per_epoch')\n\u001b[0m\u001b[0;32m    781\u001b[0m \u001b[1;33m\u001b[0m\u001b[0m\n\u001b[0;32m    782\u001b[0m   def evaluate(self,\n",
      "\u001b[1;32m~\\anaconda3\\lib\\site-packages\\tensorflow\\python\\keras\\engine\\training_arrays.py\u001b[0m in \u001b[0;36mmodel_iteration\u001b[1;34m(model, inputs, targets, sample_weights, batch_size, epochs, verbose, callbacks, val_inputs, val_targets, val_sample_weights, shuffle, initial_epoch, steps_per_epoch, validation_steps, validation_freq, mode, validation_in_fit, prepared_feed_values_from_dataset, steps_name, **kwargs)\u001b[0m\n\u001b[0;32m    361\u001b[0m \u001b[1;33m\u001b[0m\u001b[0m\n\u001b[0;32m    362\u001b[0m         \u001b[1;31m# Get outputs.\u001b[0m\u001b[1;33m\u001b[0m\u001b[1;33m\u001b[0m\u001b[1;33m\u001b[0m\u001b[0m\n\u001b[1;32m--> 363\u001b[1;33m         \u001b[0mbatch_outs\u001b[0m \u001b[1;33m=\u001b[0m \u001b[0mf\u001b[0m\u001b[1;33m(\u001b[0m\u001b[0mins_batch\u001b[0m\u001b[1;33m)\u001b[0m\u001b[1;33m\u001b[0m\u001b[1;33m\u001b[0m\u001b[0m\n\u001b[0m\u001b[0;32m    364\u001b[0m         \u001b[1;32mif\u001b[0m \u001b[1;32mnot\u001b[0m \u001b[0misinstance\u001b[0m\u001b[1;33m(\u001b[0m\u001b[0mbatch_outs\u001b[0m\u001b[1;33m,\u001b[0m \u001b[0mlist\u001b[0m\u001b[1;33m)\u001b[0m\u001b[1;33m:\u001b[0m\u001b[1;33m\u001b[0m\u001b[1;33m\u001b[0m\u001b[0m\n\u001b[0;32m    365\u001b[0m           \u001b[0mbatch_outs\u001b[0m \u001b[1;33m=\u001b[0m \u001b[1;33m[\u001b[0m\u001b[0mbatch_outs\u001b[0m\u001b[1;33m]\u001b[0m\u001b[1;33m\u001b[0m\u001b[1;33m\u001b[0m\u001b[0m\n",
      "\u001b[1;32m~\\anaconda3\\lib\\site-packages\\tensorflow\\python\\keras\\backend.py\u001b[0m in \u001b[0;36m__call__\u001b[1;34m(self, inputs)\u001b[0m\n\u001b[0;32m   3290\u001b[0m \u001b[1;33m\u001b[0m\u001b[0m\n\u001b[0;32m   3291\u001b[0m     fetched = self._callable_fn(*array_vals,\n\u001b[1;32m-> 3292\u001b[1;33m                                 run_metadata=self.run_metadata)\n\u001b[0m\u001b[0;32m   3293\u001b[0m     \u001b[0mself\u001b[0m\u001b[1;33m.\u001b[0m\u001b[0m_call_fetch_callbacks\u001b[0m\u001b[1;33m(\u001b[0m\u001b[0mfetched\u001b[0m\u001b[1;33m[\u001b[0m\u001b[1;33m-\u001b[0m\u001b[0mlen\u001b[0m\u001b[1;33m(\u001b[0m\u001b[0mself\u001b[0m\u001b[1;33m.\u001b[0m\u001b[0m_fetches\u001b[0m\u001b[1;33m)\u001b[0m\u001b[1;33m:\u001b[0m\u001b[1;33m]\u001b[0m\u001b[1;33m)\u001b[0m\u001b[1;33m\u001b[0m\u001b[1;33m\u001b[0m\u001b[0m\n\u001b[0;32m   3294\u001b[0m     output_structure = nest.pack_sequence_as(\n",
      "\u001b[1;32m~\\anaconda3\\lib\\site-packages\\tensorflow\\python\\client\\session.py\u001b[0m in \u001b[0;36m__call__\u001b[1;34m(self, *args, **kwargs)\u001b[0m\n\u001b[0;32m   1456\u001b[0m         ret = tf_session.TF_SessionRunCallable(self._session._session,\n\u001b[0;32m   1457\u001b[0m                                                \u001b[0mself\u001b[0m\u001b[1;33m.\u001b[0m\u001b[0m_handle\u001b[0m\u001b[1;33m,\u001b[0m \u001b[0margs\u001b[0m\u001b[1;33m,\u001b[0m\u001b[1;33m\u001b[0m\u001b[1;33m\u001b[0m\u001b[0m\n\u001b[1;32m-> 1458\u001b[1;33m                                                run_metadata_ptr)\n\u001b[0m\u001b[0;32m   1459\u001b[0m         \u001b[1;32mif\u001b[0m \u001b[0mrun_metadata\u001b[0m\u001b[1;33m:\u001b[0m\u001b[1;33m\u001b[0m\u001b[1;33m\u001b[0m\u001b[0m\n\u001b[0;32m   1460\u001b[0m           \u001b[0mproto_data\u001b[0m \u001b[1;33m=\u001b[0m \u001b[0mtf_session\u001b[0m\u001b[1;33m.\u001b[0m\u001b[0mTF_GetBuffer\u001b[0m\u001b[1;33m(\u001b[0m\u001b[0mrun_metadata_ptr\u001b[0m\u001b[1;33m)\u001b[0m\u001b[1;33m\u001b[0m\u001b[1;33m\u001b[0m\u001b[0m\n",
      "\u001b[1;31mKeyboardInterrupt\u001b[0m: "
     ]
    }
   ],
   "source": [
    "# model_lstm.fit(x_train_mms, y_train, batch_size=batch_size//20, epochs=50, verbose=1, callbacks=[EarlyStopping(verbose=1)], validation_data=(x_test_mms, y_test))\n",
    "# result = models[\"vgg16_1d\"].fit(x_train_mms, y_train, batch_size=batch_size//20, epochs=50, verbose=1, validation_data=(x_test_mms, y_test))\n",
    "result = models[\"vgg16_1d\"].fit(datas[\"stds\"][0], y_train, batch_size=batch_size//20, epochs=50, verbose=1, validation_data=(datas[\"stds\"][1], y_test))\n"
   ]
  },
  {
   "cell_type": "code",
   "execution_count": 80,
   "metadata": {},
   "outputs": [
    {
     "output_type": "display_data",
     "data": {
      "text/plain": "<Figure size 432x288 with 1 Axes>",
      "image/svg+xml": "<?xml version=\"1.0\" encoding=\"utf-8\" standalone=\"no\"?>\r\n<!DOCTYPE svg PUBLIC \"-//W3C//DTD SVG 1.1//EN\"\r\n  \"http://www.w3.org/Graphics/SVG/1.1/DTD/svg11.dtd\">\r\n<!-- Created with matplotlib (https://matplotlib.org/) -->\r\n<svg height=\"248.518125pt\" version=\"1.1\" viewBox=\"0 0 362.5625 248.518125\" width=\"362.5625pt\" xmlns=\"http://www.w3.org/2000/svg\" xmlns:xlink=\"http://www.w3.org/1999/xlink\">\r\n <defs>\r\n  <style type=\"text/css\">\r\n*{stroke-linecap:butt;stroke-linejoin:round;}\r\n  </style>\r\n </defs>\r\n <g id=\"figure_1\">\r\n  <g id=\"patch_1\">\r\n   <path d=\"M 0 248.518125 \r\nL 362.5625 248.518125 \r\nL 362.5625 0 \r\nL 0 0 \r\nz\r\n\" style=\"fill:none;\"/>\r\n  </g>\r\n  <g id=\"axes_1\">\r\n   <g id=\"patch_2\">\r\n    <path d=\"M 20.5625 224.64 \r\nL 355.3625 224.64 \r\nL 355.3625 7.2 \r\nL 20.5625 7.2 \r\nz\r\n\" style=\"fill:#ffffff;\"/>\r\n   </g>\r\n   <g id=\"matplotlib.axis_1\">\r\n    <g id=\"xtick_1\">\r\n     <g id=\"line2d_1\">\r\n      <defs>\r\n       <path d=\"M 0 0 \r\nL 0 3.5 \r\n\" id=\"ma4ccdf67e2\" style=\"stroke:#000000;stroke-width:0.8;\"/>\r\n      </defs>\r\n      <g>\r\n       <use style=\"stroke:#000000;stroke-width:0.8;\" x=\"35.780682\" xlink:href=\"#ma4ccdf67e2\" y=\"224.64\"/>\r\n      </g>\r\n     </g>\r\n     <g id=\"text_1\">\r\n      <!-- 0 -->\r\n      <defs>\r\n       <path d=\"M 31.78125 66.40625 \r\nQ 24.171875 66.40625 20.328125 58.90625 \r\nQ 16.5 51.421875 16.5 36.375 \r\nQ 16.5 21.390625 20.328125 13.890625 \r\nQ 24.171875 6.390625 31.78125 6.390625 \r\nQ 39.453125 6.390625 43.28125 13.890625 \r\nQ 47.125 21.390625 47.125 36.375 \r\nQ 47.125 51.421875 43.28125 58.90625 \r\nQ 39.453125 66.40625 31.78125 66.40625 \r\nz\r\nM 31.78125 74.21875 \r\nQ 44.046875 74.21875 50.515625 64.515625 \r\nQ 56.984375 54.828125 56.984375 36.375 \r\nQ 56.984375 17.96875 50.515625 8.265625 \r\nQ 44.046875 -1.421875 31.78125 -1.421875 \r\nQ 19.53125 -1.421875 13.0625 8.265625 \r\nQ 6.59375 17.96875 6.59375 36.375 \r\nQ 6.59375 54.828125 13.0625 64.515625 \r\nQ 19.53125 74.21875 31.78125 74.21875 \r\nz\r\n\" id=\"DejaVuSans-48\"/>\r\n      </defs>\r\n      <g transform=\"translate(32.599432 239.238437)scale(0.1 -0.1)\">\r\n       <use xlink:href=\"#DejaVuSans-48\"/>\r\n      </g>\r\n     </g>\r\n    </g>\r\n    <g id=\"xtick_2\">\r\n     <g id=\"line2d_2\">\r\n      <g>\r\n       <use style=\"stroke:#000000;stroke-width:0.8;\" x=\"97.89571\" xlink:href=\"#ma4ccdf67e2\" y=\"224.64\"/>\r\n      </g>\r\n     </g>\r\n     <g id=\"text_2\">\r\n      <!-- 10 -->\r\n      <defs>\r\n       <path d=\"M 12.40625 8.296875 \r\nL 28.515625 8.296875 \r\nL 28.515625 63.921875 \r\nL 10.984375 60.40625 \r\nL 10.984375 69.390625 \r\nL 28.421875 72.90625 \r\nL 38.28125 72.90625 \r\nL 38.28125 8.296875 \r\nL 54.390625 8.296875 \r\nL 54.390625 0 \r\nL 12.40625 0 \r\nz\r\n\" id=\"DejaVuSans-49\"/>\r\n      </defs>\r\n      <g transform=\"translate(91.53321 239.238437)scale(0.1 -0.1)\">\r\n       <use xlink:href=\"#DejaVuSans-49\"/>\r\n       <use x=\"63.623047\" xlink:href=\"#DejaVuSans-48\"/>\r\n      </g>\r\n     </g>\r\n    </g>\r\n    <g id=\"xtick_3\">\r\n     <g id=\"line2d_3\">\r\n      <g>\r\n       <use style=\"stroke:#000000;stroke-width:0.8;\" x=\"160.010737\" xlink:href=\"#ma4ccdf67e2\" y=\"224.64\"/>\r\n      </g>\r\n     </g>\r\n     <g id=\"text_3\">\r\n      <!-- 20 -->\r\n      <defs>\r\n       <path d=\"M 19.1875 8.296875 \r\nL 53.609375 8.296875 \r\nL 53.609375 0 \r\nL 7.328125 0 \r\nL 7.328125 8.296875 \r\nQ 12.9375 14.109375 22.625 23.890625 \r\nQ 32.328125 33.6875 34.8125 36.53125 \r\nQ 39.546875 41.84375 41.421875 45.53125 \r\nQ 43.3125 49.21875 43.3125 52.78125 \r\nQ 43.3125 58.59375 39.234375 62.25 \r\nQ 35.15625 65.921875 28.609375 65.921875 \r\nQ 23.96875 65.921875 18.8125 64.3125 \r\nQ 13.671875 62.703125 7.8125 59.421875 \r\nL 7.8125 69.390625 \r\nQ 13.765625 71.78125 18.9375 73 \r\nQ 24.125 74.21875 28.421875 74.21875 \r\nQ 39.75 74.21875 46.484375 68.546875 \r\nQ 53.21875 62.890625 53.21875 53.421875 \r\nQ 53.21875 48.921875 51.53125 44.890625 \r\nQ 49.859375 40.875 45.40625 35.40625 \r\nQ 44.1875 33.984375 37.640625 27.21875 \r\nQ 31.109375 20.453125 19.1875 8.296875 \r\nz\r\n\" id=\"DejaVuSans-50\"/>\r\n      </defs>\r\n      <g transform=\"translate(153.648237 239.238437)scale(0.1 -0.1)\">\r\n       <use xlink:href=\"#DejaVuSans-50\"/>\r\n       <use x=\"63.623047\" xlink:href=\"#DejaVuSans-48\"/>\r\n      </g>\r\n     </g>\r\n    </g>\r\n    <g id=\"xtick_4\">\r\n     <g id=\"line2d_4\">\r\n      <g>\r\n       <use style=\"stroke:#000000;stroke-width:0.8;\" x=\"222.125765\" xlink:href=\"#ma4ccdf67e2\" y=\"224.64\"/>\r\n      </g>\r\n     </g>\r\n     <g id=\"text_4\">\r\n      <!-- 30 -->\r\n      <defs>\r\n       <path d=\"M 40.578125 39.3125 \r\nQ 47.65625 37.796875 51.625 33 \r\nQ 55.609375 28.21875 55.609375 21.1875 \r\nQ 55.609375 10.40625 48.1875 4.484375 \r\nQ 40.765625 -1.421875 27.09375 -1.421875 \r\nQ 22.515625 -1.421875 17.65625 -0.515625 \r\nQ 12.796875 0.390625 7.625 2.203125 \r\nL 7.625 11.71875 \r\nQ 11.71875 9.328125 16.59375 8.109375 \r\nQ 21.484375 6.890625 26.8125 6.890625 \r\nQ 36.078125 6.890625 40.9375 10.546875 \r\nQ 45.796875 14.203125 45.796875 21.1875 \r\nQ 45.796875 27.640625 41.28125 31.265625 \r\nQ 36.765625 34.90625 28.71875 34.90625 \r\nL 20.21875 34.90625 \r\nL 20.21875 43.015625 \r\nL 29.109375 43.015625 \r\nQ 36.375 43.015625 40.234375 45.921875 \r\nQ 44.09375 48.828125 44.09375 54.296875 \r\nQ 44.09375 59.90625 40.109375 62.90625 \r\nQ 36.140625 65.921875 28.71875 65.921875 \r\nQ 24.65625 65.921875 20.015625 65.03125 \r\nQ 15.375 64.15625 9.8125 62.3125 \r\nL 9.8125 71.09375 \r\nQ 15.4375 72.65625 20.34375 73.4375 \r\nQ 25.25 74.21875 29.59375 74.21875 \r\nQ 40.828125 74.21875 47.359375 69.109375 \r\nQ 53.90625 64.015625 53.90625 55.328125 \r\nQ 53.90625 49.265625 50.4375 45.09375 \r\nQ 46.96875 40.921875 40.578125 39.3125 \r\nz\r\n\" id=\"DejaVuSans-51\"/>\r\n      </defs>\r\n      <g transform=\"translate(215.763265 239.238437)scale(0.1 -0.1)\">\r\n       <use xlink:href=\"#DejaVuSans-51\"/>\r\n       <use x=\"63.623047\" xlink:href=\"#DejaVuSans-48\"/>\r\n      </g>\r\n     </g>\r\n    </g>\r\n    <g id=\"xtick_5\">\r\n     <g id=\"line2d_5\">\r\n      <g>\r\n       <use style=\"stroke:#000000;stroke-width:0.8;\" x=\"284.240793\" xlink:href=\"#ma4ccdf67e2\" y=\"224.64\"/>\r\n      </g>\r\n     </g>\r\n     <g id=\"text_5\">\r\n      <!-- 40 -->\r\n      <defs>\r\n       <path d=\"M 37.796875 64.3125 \r\nL 12.890625 25.390625 \r\nL 37.796875 25.390625 \r\nz\r\nM 35.203125 72.90625 \r\nL 47.609375 72.90625 \r\nL 47.609375 25.390625 \r\nL 58.015625 25.390625 \r\nL 58.015625 17.1875 \r\nL 47.609375 17.1875 \r\nL 47.609375 0 \r\nL 37.796875 0 \r\nL 37.796875 17.1875 \r\nL 4.890625 17.1875 \r\nL 4.890625 26.703125 \r\nz\r\n\" id=\"DejaVuSans-52\"/>\r\n      </defs>\r\n      <g transform=\"translate(277.878293 239.238437)scale(0.1 -0.1)\">\r\n       <use xlink:href=\"#DejaVuSans-52\"/>\r\n       <use x=\"63.623047\" xlink:href=\"#DejaVuSans-48\"/>\r\n      </g>\r\n     </g>\r\n    </g>\r\n    <g id=\"xtick_6\">\r\n     <g id=\"line2d_6\">\r\n      <g>\r\n       <use style=\"stroke:#000000;stroke-width:0.8;\" x=\"346.355821\" xlink:href=\"#ma4ccdf67e2\" y=\"224.64\"/>\r\n      </g>\r\n     </g>\r\n     <g id=\"text_6\">\r\n      <!-- 50 -->\r\n      <defs>\r\n       <path d=\"M 10.796875 72.90625 \r\nL 49.515625 72.90625 \r\nL 49.515625 64.59375 \r\nL 19.828125 64.59375 \r\nL 19.828125 46.734375 \r\nQ 21.96875 47.46875 24.109375 47.828125 \r\nQ 26.265625 48.1875 28.421875 48.1875 \r\nQ 40.625 48.1875 47.75 41.5 \r\nQ 54.890625 34.8125 54.890625 23.390625 \r\nQ 54.890625 11.625 47.5625 5.09375 \r\nQ 40.234375 -1.421875 26.90625 -1.421875 \r\nQ 22.3125 -1.421875 17.546875 -0.640625 \r\nQ 12.796875 0.140625 7.71875 1.703125 \r\nL 7.71875 11.625 \r\nQ 12.109375 9.234375 16.796875 8.0625 \r\nQ 21.484375 6.890625 26.703125 6.890625 \r\nQ 35.15625 6.890625 40.078125 11.328125 \r\nQ 45.015625 15.765625 45.015625 23.390625 \r\nQ 45.015625 31 40.078125 35.4375 \r\nQ 35.15625 39.890625 26.703125 39.890625 \r\nQ 22.75 39.890625 18.8125 39.015625 \r\nQ 14.890625 38.140625 10.796875 36.28125 \r\nz\r\n\" id=\"DejaVuSans-53\"/>\r\n      </defs>\r\n      <g transform=\"translate(339.993321 239.238437)scale(0.1 -0.1)\">\r\n       <use xlink:href=\"#DejaVuSans-53\"/>\r\n       <use x=\"63.623047\" xlink:href=\"#DejaVuSans-48\"/>\r\n      </g>\r\n     </g>\r\n    </g>\r\n   </g>\r\n   <g id=\"matplotlib.axis_2\">\r\n    <g id=\"ytick_1\">\r\n     <g id=\"line2d_7\">\r\n      <defs>\r\n       <path d=\"M 0 0 \r\nL -3.5 0 \r\n\" id=\"m964c5165bd\" style=\"stroke:#000000;stroke-width:0.8;\"/>\r\n      </defs>\r\n      <g>\r\n       <use style=\"stroke:#000000;stroke-width:0.8;\" x=\"20.5625\" xlink:href=\"#m964c5165bd\" y=\"222.563639\"/>\r\n      </g>\r\n     </g>\r\n     <g id=\"text_7\">\r\n      <!-- 0 -->\r\n      <g transform=\"translate(7.2 226.362858)scale(0.1 -0.1)\">\r\n       <use xlink:href=\"#DejaVuSans-48\"/>\r\n      </g>\r\n     </g>\r\n    </g>\r\n    <g id=\"ytick_2\">\r\n     <g id=\"line2d_8\">\r\n      <g>\r\n       <use style=\"stroke:#000000;stroke-width:0.8;\" x=\"20.5625\" xlink:href=\"#m964c5165bd\" y=\"174.744075\"/>\r\n      </g>\r\n     </g>\r\n     <g id=\"text_8\">\r\n      <!-- 1 -->\r\n      <g transform=\"translate(7.2 178.543294)scale(0.1 -0.1)\">\r\n       <use xlink:href=\"#DejaVuSans-49\"/>\r\n      </g>\r\n     </g>\r\n    </g>\r\n    <g id=\"ytick_3\">\r\n     <g id=\"line2d_9\">\r\n      <g>\r\n       <use style=\"stroke:#000000;stroke-width:0.8;\" x=\"20.5625\" xlink:href=\"#m964c5165bd\" y=\"126.924511\"/>\r\n      </g>\r\n     </g>\r\n     <g id=\"text_9\">\r\n      <!-- 2 -->\r\n      <g transform=\"translate(7.2 130.72373)scale(0.1 -0.1)\">\r\n       <use xlink:href=\"#DejaVuSans-50\"/>\r\n      </g>\r\n     </g>\r\n    </g>\r\n    <g id=\"ytick_4\">\r\n     <g id=\"line2d_10\">\r\n      <g>\r\n       <use style=\"stroke:#000000;stroke-width:0.8;\" x=\"20.5625\" xlink:href=\"#m964c5165bd\" y=\"79.104947\"/>\r\n      </g>\r\n     </g>\r\n     <g id=\"text_10\">\r\n      <!-- 3 -->\r\n      <g transform=\"translate(7.2 82.904165)scale(0.1 -0.1)\">\r\n       <use xlink:href=\"#DejaVuSans-51\"/>\r\n      </g>\r\n     </g>\r\n    </g>\r\n    <g id=\"ytick_5\">\r\n     <g id=\"line2d_11\">\r\n      <g>\r\n       <use style=\"stroke:#000000;stroke-width:0.8;\" x=\"20.5625\" xlink:href=\"#m964c5165bd\" y=\"31.285382\"/>\r\n      </g>\r\n     </g>\r\n     <g id=\"text_11\">\r\n      <!-- 4 -->\r\n      <g transform=\"translate(7.2 35.084601)scale(0.1 -0.1)\">\r\n       <use xlink:href=\"#DejaVuSans-52\"/>\r\n      </g>\r\n     </g>\r\n    </g>\r\n   </g>\r\n   <g id=\"line2d_12\">\r\n    <path clip-path=\"url(#p36f9ffa383)\" d=\"M 35.780682 90.886326 \r\nL 41.992185 134.869041 \r\nL 48.203687 136.507169 \r\nL 54.41519 136.733006 \r\nL 60.626693 137.012397 \r\nL 66.838196 137.083 \r\nL 73.049699 139.427463 \r\nL 79.261201 139.220924 \r\nL 85.472704 142.490364 \r\nL 91.684207 141.948737 \r\nL 97.89571 143.424911 \r\nL 104.107212 143.032301 \r\nL 110.318715 144.874611 \r\nL 116.530218 142.01209 \r\nL 122.741721 144.280091 \r\nL 128.953224 142.247583 \r\nL 135.164726 144.732486 \r\nL 141.376229 145.032335 \r\nL 147.587732 142.832255 \r\nL 153.799235 143.615508 \r\nL 160.010737 143.599978 \r\nL 166.22224 138.952409 \r\nL 172.433743 143.061908 \r\nL 178.645246 146.5633 \r\nL 184.856749 147.262287 \r\nL 191.068251 147.612017 \r\nL 197.279754 148.068984 \r\nL 203.491257 151.072974 \r\nL 209.70276 148.219835 \r\nL 215.914263 147.506789 \r\nL 222.125765 149.506689 \r\nL 228.337268 147.853703 \r\nL 234.548771 149.402823 \r\nL 240.760274 150.362954 \r\nL 246.971776 150.731311 \r\nL 253.183279 151.680297 \r\nL 259.394782 148.241361 \r\nL 265.606285 150.66921 \r\nL 271.817788 151.529453 \r\nL 278.02929 149.50948 \r\nL 284.240793 148.233965 \r\nL 290.452296 149.141411 \r\nL 296.663799 151.603622 \r\nL 302.875301 144.791949 \r\nL 309.086804 150.698667 \r\nL 315.298307 153.539478 \r\nL 321.50981 154.626121 \r\nL 327.721313 155.837958 \r\nL 333.932815 155.295256 \r\nL 340.144318 156.924776 \r\n\" style=\"fill:none;stroke:#1f77b4;stroke-linecap:square;stroke-width:1.5;\"/>\r\n   </g>\r\n   <g id=\"line2d_13\">\r\n    <path clip-path=\"url(#p36f9ffa383)\" d=\"M 35.780682 213.853647 \r\nL 41.992185 213.170511 \r\nL 48.203687 214.195216 \r\nL 54.41519 214.024431 \r\nL 60.626693 214.622176 \r\nL 66.838196 212.999726 \r\nL 73.049699 209.669435 \r\nL 79.261201 211.206493 \r\nL 85.472704 209.584043 \r\nL 91.684207 208.730122 \r\nL 97.89571 209.071691 \r\nL 104.107212 210.352572 \r\nL 110.318715 208.644731 \r\nL 116.530218 208.388555 \r\nL 122.741721 209.327868 \r\nL 128.953224 210.437964 \r\nL 135.164726 210.181788 \r\nL 141.376229 209.754828 \r\nL 147.587732 209.327868 \r\nL 153.799235 210.523356 \r\nL 160.010737 210.267179 \r\nL 166.22224 212.828942 \r\nL 172.433743 209.669435 \r\nL 178.645246 208.217769 \r\nL 184.856749 208.388555 \r\nL 191.068251 209.071691 \r\nL 197.279754 209.327868 \r\nL 203.491257 207.534633 \r\nL 209.70276 208.132378 \r\nL 215.914263 207.705418 \r\nL 222.125765 208.559338 \r\nL 228.337268 207.961594 \r\nL 234.548771 208.132378 \r\nL 240.760274 209.157082 \r\nL 246.971776 206.16836 \r\nL 253.183279 206.16836 \r\nL 259.394782 207.620025 \r\nL 265.606285 206.680712 \r\nL 271.817788 205.656008 \r\nL 278.02929 207.363849 \r\nL 284.240793 206.59532 \r\nL 290.452296 205.399832 \r\nL 296.663799 207.022281 \r\nL 302.875301 207.278456 \r\nL 309.086804 206.851496 \r\nL 315.298307 205.485223 \r\nL 321.50981 204.802086 \r\nL 327.721313 204.716695 \r\nL 333.932815 204.54591 \r\nL 340.144318 204.033559 \r\n\" style=\"fill:none;stroke:#ff7f0e;stroke-linecap:square;stroke-width:1.5;\"/>\r\n   </g>\r\n   <g id=\"line2d_14\">\r\n    <path clip-path=\"url(#p36f9ffa383)\" d=\"M 35.780682 17.083636 \r\nL 41.992185 138.281367 \r\nL 48.203687 136.499805 \r\nL 54.41519 136.843396 \r\nL 60.626693 135.480334 \r\nL 66.838196 135.730088 \r\nL 73.049699 140.790186 \r\nL 79.261201 140.06163 \r\nL 85.472704 140.415307 \r\nL 91.684207 143.854461 \r\nL 97.89571 134.431331 \r\nL 104.107212 147.372815 \r\nL 110.318715 144.413284 \r\nL 116.530218 119.240661 \r\nL 122.741721 147.564288 \r\nL 128.953224 145.632006 \r\nL 135.164726 140.37126 \r\nL 141.376229 150.029794 \r\nL 147.587732 139.460768 \r\nL 153.799235 149.600828 \r\nL 160.010737 137.021437 \r\nL 166.22224 137.379315 \r\nL 172.433743 141.428371 \r\nL 178.645246 144.621244 \r\nL 184.856749 148.938244 \r\nL 191.068251 151.766623 \r\nL 197.279754 151.142843 \r\nL 203.491257 152.264436 \r\nL 209.70276 151.705939 \r\nL 215.914263 148.650713 \r\nL 222.125765 149.489625 \r\nL 228.337268 148.365681 \r\nL 234.548771 153.192524 \r\nL 240.760274 153.395826 \r\nL 246.971776 152.99435 \r\nL 253.183279 151.098206 \r\nL 259.394782 153.495003 \r\nL 265.606285 151.854501 \r\nL 271.817788 150.880114 \r\nL 278.02929 149.901766 \r\nL 284.240793 150.452445 \r\nL 290.452296 156.960556 \r\nL 296.663799 137.551025 \r\nL 302.875301 152.846658 \r\nL 309.086804 152.565394 \r\nL 315.298307 156.948612 \r\nL 321.50981 150.559203 \r\nL 327.721313 147.506527 \r\nL 333.932815 142.168614 \r\nL 340.144318 158.268417 \r\n\" style=\"fill:none;stroke:#2ca02c;stroke-linecap:square;stroke-width:1.5;\"/>\r\n   </g>\r\n   <g id=\"line2d_15\">\r\n    <path clip-path=\"url(#p36f9ffa383)\" d=\"M 35.780682 214.756364 \r\nL 41.992185 213.780454 \r\nL 48.203687 214.268408 \r\nL 54.41519 214.756364 \r\nL 60.626693 214.756364 \r\nL 66.838196 209.876816 \r\nL 73.049699 209.876816 \r\nL 79.261201 208.900906 \r\nL 85.472704 211.34068 \r\nL 91.684207 208.412952 \r\nL 97.89571 213.780454 \r\nL 104.107212 207.924997 \r\nL 110.318715 207.437043 \r\nL 116.530218 211.34068 \r\nL 122.741721 208.900906 \r\nL 128.953224 206.949088 \r\nL 135.164726 209.876816 \r\nL 141.376229 206.949088 \r\nL 147.587732 212.31659 \r\nL 153.799235 209.876816 \r\nL 160.010737 212.31659 \r\nL 166.22224 212.804544 \r\nL 172.433743 212.804544 \r\nL 178.645246 207.924997 \r\nL 184.856749 208.900906 \r\nL 191.068251 206.949088 \r\nL 197.279754 209.388862 \r\nL 203.491257 207.924997 \r\nL 209.70276 207.437043 \r\nL 215.914263 207.924997 \r\nL 222.125765 207.924997 \r\nL 228.337268 207.924997 \r\nL 234.548771 205.485223 \r\nL 240.760274 204.997269 \r\nL 246.971776 206.949088 \r\nL 253.183279 206.461133 \r\nL 259.394782 204.02136 \r\nL 265.606285 207.437043 \r\nL 271.817788 205.973178 \r\nL 278.02929 206.949088 \r\nL 284.240793 204.509314 \r\nL 290.452296 204.02136 \r\nL 296.663799 204.997269 \r\nL 302.875301 207.437043 \r\nL 309.086804 206.949088 \r\nL 315.298307 205.973178 \r\nL 321.50981 207.924997 \r\nL 327.721313 207.924997 \r\nL 333.932815 204.997269 \r\nL 340.144318 202.557495 \r\n\" style=\"fill:none;stroke:#d62728;stroke-linecap:square;stroke-width:1.5;\"/>\r\n   </g>\r\n   <g id=\"patch_3\">\r\n    <path d=\"M 20.5625 224.64 \r\nL 20.5625 7.2 \r\n\" style=\"fill:none;stroke:#000000;stroke-linecap:square;stroke-linejoin:miter;stroke-width:0.8;\"/>\r\n   </g>\r\n   <g id=\"patch_4\">\r\n    <path d=\"M 355.3625 224.64 \r\nL 355.3625 7.2 \r\n\" style=\"fill:none;stroke:#000000;stroke-linecap:square;stroke-linejoin:miter;stroke-width:0.8;\"/>\r\n   </g>\r\n   <g id=\"patch_5\">\r\n    <path d=\"M 20.5625 224.64 \r\nL 355.3625 224.64 \r\n\" style=\"fill:none;stroke:#000000;stroke-linecap:square;stroke-linejoin:miter;stroke-width:0.8;\"/>\r\n   </g>\r\n   <g id=\"patch_6\">\r\n    <path d=\"M 20.5625 7.2 \r\nL 355.3625 7.2 \r\n\" style=\"fill:none;stroke:#000000;stroke-linecap:square;stroke-linejoin:miter;stroke-width:0.8;\"/>\r\n   </g>\r\n   <g id=\"legend_1\">\r\n    <g id=\"patch_7\">\r\n     <path d=\"M 277.221875 74.46875 \r\nL 348.3625 74.46875 \r\nQ 350.3625 74.46875 350.3625 72.46875 \r\nL 350.3625 14.2 \r\nQ 350.3625 12.2 348.3625 12.2 \r\nL 277.221875 12.2 \r\nQ 275.221875 12.2 275.221875 14.2 \r\nL 275.221875 72.46875 \r\nQ 275.221875 74.46875 277.221875 74.46875 \r\nz\r\n\" style=\"fill:#ffffff;opacity:0.8;stroke:#cccccc;stroke-linejoin:miter;\"/>\r\n    </g>\r\n    <g id=\"line2d_16\">\r\n     <path d=\"M 279.221875 20.298437 \r\nL 299.221875 20.298437 \r\n\" style=\"fill:none;stroke:#1f77b4;stroke-linecap:square;stroke-width:1.5;\"/>\r\n    </g>\r\n    <g id=\"line2d_17\"/>\r\n    <g id=\"text_12\">\r\n     <!-- loss -->\r\n     <defs>\r\n      <path d=\"M 9.421875 75.984375 \r\nL 18.40625 75.984375 \r\nL 18.40625 0 \r\nL 9.421875 0 \r\nz\r\n\" id=\"DejaVuSans-108\"/>\r\n      <path d=\"M 30.609375 48.390625 \r\nQ 23.390625 48.390625 19.1875 42.75 \r\nQ 14.984375 37.109375 14.984375 27.296875 \r\nQ 14.984375 17.484375 19.15625 11.84375 \r\nQ 23.34375 6.203125 30.609375 6.203125 \r\nQ 37.796875 6.203125 41.984375 11.859375 \r\nQ 46.1875 17.53125 46.1875 27.296875 \r\nQ 46.1875 37.015625 41.984375 42.703125 \r\nQ 37.796875 48.390625 30.609375 48.390625 \r\nz\r\nM 30.609375 56 \r\nQ 42.328125 56 49.015625 48.375 \r\nQ 55.71875 40.765625 55.71875 27.296875 \r\nQ 55.71875 13.875 49.015625 6.21875 \r\nQ 42.328125 -1.421875 30.609375 -1.421875 \r\nQ 18.84375 -1.421875 12.171875 6.21875 \r\nQ 5.515625 13.875 5.515625 27.296875 \r\nQ 5.515625 40.765625 12.171875 48.375 \r\nQ 18.84375 56 30.609375 56 \r\nz\r\n\" id=\"DejaVuSans-111\"/>\r\n      <path d=\"M 44.28125 53.078125 \r\nL 44.28125 44.578125 \r\nQ 40.484375 46.53125 36.375 47.5 \r\nQ 32.28125 48.484375 27.875 48.484375 \r\nQ 21.1875 48.484375 17.84375 46.4375 \r\nQ 14.5 44.390625 14.5 40.28125 \r\nQ 14.5 37.15625 16.890625 35.375 \r\nQ 19.28125 33.59375 26.515625 31.984375 \r\nL 29.59375 31.296875 \r\nQ 39.15625 29.25 43.1875 25.515625 \r\nQ 47.21875 21.78125 47.21875 15.09375 \r\nQ 47.21875 7.46875 41.1875 3.015625 \r\nQ 35.15625 -1.421875 24.609375 -1.421875 \r\nQ 20.21875 -1.421875 15.453125 -0.5625 \r\nQ 10.6875 0.296875 5.421875 2 \r\nL 5.421875 11.28125 \r\nQ 10.40625 8.6875 15.234375 7.390625 \r\nQ 20.0625 6.109375 24.8125 6.109375 \r\nQ 31.15625 6.109375 34.5625 8.28125 \r\nQ 37.984375 10.453125 37.984375 14.40625 \r\nQ 37.984375 18.0625 35.515625 20.015625 \r\nQ 33.0625 21.96875 24.703125 23.78125 \r\nL 21.578125 24.515625 \r\nQ 13.234375 26.265625 9.515625 29.90625 \r\nQ 5.8125 33.546875 5.8125 39.890625 \r\nQ 5.8125 47.609375 11.28125 51.796875 \r\nQ 16.75 56 26.8125 56 \r\nQ 31.78125 56 36.171875 55.265625 \r\nQ 40.578125 54.546875 44.28125 53.078125 \r\nz\r\n\" id=\"DejaVuSans-115\"/>\r\n     </defs>\r\n     <g transform=\"translate(307.221875 23.798437)scale(0.1 -0.1)\">\r\n      <use xlink:href=\"#DejaVuSans-108\"/>\r\n      <use x=\"27.783203\" xlink:href=\"#DejaVuSans-111\"/>\r\n      <use x=\"88.964844\" xlink:href=\"#DejaVuSans-115\"/>\r\n      <use x=\"141.064453\" xlink:href=\"#DejaVuSans-115\"/>\r\n     </g>\r\n    </g>\r\n    <g id=\"line2d_18\">\r\n     <path d=\"M 279.221875 34.976562 \r\nL 299.221875 34.976562 \r\n\" style=\"fill:none;stroke:#ff7f0e;stroke-linecap:square;stroke-width:1.5;\"/>\r\n    </g>\r\n    <g id=\"line2d_19\"/>\r\n    <g id=\"text_13\">\r\n     <!-- acc -->\r\n     <defs>\r\n      <path d=\"M 34.28125 27.484375 \r\nQ 23.390625 27.484375 19.1875 25 \r\nQ 14.984375 22.515625 14.984375 16.5 \r\nQ 14.984375 11.71875 18.140625 8.90625 \r\nQ 21.296875 6.109375 26.703125 6.109375 \r\nQ 34.1875 6.109375 38.703125 11.40625 \r\nQ 43.21875 16.703125 43.21875 25.484375 \r\nL 43.21875 27.484375 \r\nz\r\nM 52.203125 31.203125 \r\nL 52.203125 0 \r\nL 43.21875 0 \r\nL 43.21875 8.296875 \r\nQ 40.140625 3.328125 35.546875 0.953125 \r\nQ 30.953125 -1.421875 24.3125 -1.421875 \r\nQ 15.921875 -1.421875 10.953125 3.296875 \r\nQ 6 8.015625 6 15.921875 \r\nQ 6 25.140625 12.171875 29.828125 \r\nQ 18.359375 34.515625 30.609375 34.515625 \r\nL 43.21875 34.515625 \r\nL 43.21875 35.40625 \r\nQ 43.21875 41.609375 39.140625 45 \r\nQ 35.0625 48.390625 27.6875 48.390625 \r\nQ 23 48.390625 18.546875 47.265625 \r\nQ 14.109375 46.140625 10.015625 43.890625 \r\nL 10.015625 52.203125 \r\nQ 14.9375 54.109375 19.578125 55.046875 \r\nQ 24.21875 56 28.609375 56 \r\nQ 40.484375 56 46.34375 49.84375 \r\nQ 52.203125 43.703125 52.203125 31.203125 \r\nz\r\n\" id=\"DejaVuSans-97\"/>\r\n      <path d=\"M 48.78125 52.59375 \r\nL 48.78125 44.1875 \r\nQ 44.96875 46.296875 41.140625 47.34375 \r\nQ 37.3125 48.390625 33.40625 48.390625 \r\nQ 24.65625 48.390625 19.8125 42.84375 \r\nQ 14.984375 37.3125 14.984375 27.296875 \r\nQ 14.984375 17.28125 19.8125 11.734375 \r\nQ 24.65625 6.203125 33.40625 6.203125 \r\nQ 37.3125 6.203125 41.140625 7.25 \r\nQ 44.96875 8.296875 48.78125 10.40625 \r\nL 48.78125 2.09375 \r\nQ 45.015625 0.34375 40.984375 -0.53125 \r\nQ 36.96875 -1.421875 32.421875 -1.421875 \r\nQ 20.0625 -1.421875 12.78125 6.34375 \r\nQ 5.515625 14.109375 5.515625 27.296875 \r\nQ 5.515625 40.671875 12.859375 48.328125 \r\nQ 20.21875 56 33.015625 56 \r\nQ 37.15625 56 41.109375 55.140625 \r\nQ 45.0625 54.296875 48.78125 52.59375 \r\nz\r\n\" id=\"DejaVuSans-99\"/>\r\n     </defs>\r\n     <g transform=\"translate(307.221875 38.476562)scale(0.1 -0.1)\">\r\n      <use xlink:href=\"#DejaVuSans-97\"/>\r\n      <use x=\"61.279297\" xlink:href=\"#DejaVuSans-99\"/>\r\n      <use x=\"116.259766\" xlink:href=\"#DejaVuSans-99\"/>\r\n     </g>\r\n    </g>\r\n    <g id=\"line2d_20\">\r\n     <path d=\"M 279.221875 49.654687 \r\nL 299.221875 49.654687 \r\n\" style=\"fill:none;stroke:#2ca02c;stroke-linecap:square;stroke-width:1.5;\"/>\r\n    </g>\r\n    <g id=\"line2d_21\"/>\r\n    <g id=\"text_14\">\r\n     <!-- val_loss -->\r\n     <defs>\r\n      <path d=\"M 2.984375 54.6875 \r\nL 12.5 54.6875 \r\nL 29.59375 8.796875 \r\nL 46.6875 54.6875 \r\nL 56.203125 54.6875 \r\nL 35.6875 0 \r\nL 23.484375 0 \r\nz\r\n\" id=\"DejaVuSans-118\"/>\r\n      <path d=\"M 50.984375 -16.609375 \r\nL 50.984375 -23.578125 \r\nL -0.984375 -23.578125 \r\nL -0.984375 -16.609375 \r\nz\r\n\" id=\"DejaVuSans-95\"/>\r\n     </defs>\r\n     <g transform=\"translate(307.221875 53.154687)scale(0.1 -0.1)\">\r\n      <use xlink:href=\"#DejaVuSans-118\"/>\r\n      <use x=\"59.179688\" xlink:href=\"#DejaVuSans-97\"/>\r\n      <use x=\"120.458984\" xlink:href=\"#DejaVuSans-108\"/>\r\n      <use x=\"148.242188\" xlink:href=\"#DejaVuSans-95\"/>\r\n      <use x=\"198.242188\" xlink:href=\"#DejaVuSans-108\"/>\r\n      <use x=\"226.025391\" xlink:href=\"#DejaVuSans-111\"/>\r\n      <use x=\"287.207031\" xlink:href=\"#DejaVuSans-115\"/>\r\n      <use x=\"339.306641\" xlink:href=\"#DejaVuSans-115\"/>\r\n     </g>\r\n    </g>\r\n    <g id=\"line2d_22\">\r\n     <path d=\"M 279.221875 64.610937 \r\nL 299.221875 64.610937 \r\n\" style=\"fill:none;stroke:#d62728;stroke-linecap:square;stroke-width:1.5;\"/>\r\n    </g>\r\n    <g id=\"line2d_23\"/>\r\n    <g id=\"text_15\">\r\n     <!-- val_acc -->\r\n     <g transform=\"translate(307.221875 68.110937)scale(0.1 -0.1)\">\r\n      <use xlink:href=\"#DejaVuSans-118\"/>\r\n      <use x=\"59.179688\" xlink:href=\"#DejaVuSans-97\"/>\r\n      <use x=\"120.458984\" xlink:href=\"#DejaVuSans-108\"/>\r\n      <use x=\"148.242188\" xlink:href=\"#DejaVuSans-95\"/>\r\n      <use x=\"198.242188\" xlink:href=\"#DejaVuSans-97\"/>\r\n      <use x=\"259.521484\" xlink:href=\"#DejaVuSans-99\"/>\r\n      <use x=\"314.501953\" xlink:href=\"#DejaVuSans-99\"/>\r\n     </g>\r\n    </g>\r\n   </g>\r\n  </g>\r\n </g>\r\n <defs>\r\n  <clipPath id=\"p36f9ffa383\">\r\n   <rect height=\"217.44\" width=\"334.8\" x=\"20.5625\" y=\"7.2\"/>\r\n  </clipPath>\r\n </defs>\r\n</svg>\r\n",
      "image/png": "[encoded data removed]"
     },
     "metadata": {
      "needs_background": "light"
     }
    }
   ],
   "source": [
    "%matplotlib inline\n",
    "import matplotlib.pyplot as plt\n",
    "for key in  result.history.keys():\n",
    "    plt.plot(result.history[key], label = key)\n",
    "    plt.legend()"
   ]
  },
  {
   "cell_type": "code",
   "execution_count": 81,
   "metadata": {
    "tags": []
   },
   "outputs": [
    {
     "output_type": "stream",
     "name": "stdout",
     "text": "98/98 [==============================] - 0s 4ms/sample - loss: 1.8222 - acc: 0.3061\nloss 1.8222089592291384\nacc 0.30612245\n"
    }
   ],
   "source": [
    "evals = models[\"vgg16_1d\"].evaluate(x_test, y_test)\n",
    "print(\"loss\", evals[0])\n",
    "print(\"acc\",  evals[1])"
   ]
  },
  {
   "cell_type": "code",
   "execution_count": null,
   "metadata": {},
   "outputs": [],
   "source": []
  }
 ],
 "metadata": {
  "kernelspec": {
   "display_name": "Python 3",
   "language": "python",
   "name": "python3"
  },
  "language_info": {
   "codemirror_mode": {
    "name": "ipython",
    "version": 3
   },
   "file_extension": ".py",
   "mimetype": "text/x-python",
   "name": "python",
   "nbconvert_exporter": "python",
   "pygments_lexer": "ipython3",
   "version": "3.7.7-final"
  }
 },
 "nbformat": 4,
 "nbformat_minor": 2
}